{
 "cells": [
  {
   "cell_type": "markdown",
   "id": "2ba19e73",
   "metadata": {},
   "source": [
    "# 缺少正则化"
   ]
  },
  {
   "cell_type": "code",
   "execution_count": 1,
   "id": "a438a1f1",
   "metadata": {},
   "outputs": [],
   "source": [
    "# 小组成员  卢双强  王文娜  于双龙\n",
    "import numpy as np\n",
    "import random\n",
    "from sklearn import datasets\n",
    "from sklearn.model_selection import train_test_split\n",
    "import matplotlib.pyplot as plt"
   ]
  },
  {
   "cell_type": "code",
   "execution_count": 2,
   "id": "499e6d01",
   "metadata": {},
   "outputs": [
    {
     "name": "stdout",
     "output_type": "stream",
     "text": [
      "[[5.1 3.5 1.4 0.2]\n",
      " [4.9 3.  1.4 0.2]\n",
      " [4.7 3.2 1.3 0.2]]\n",
      "['sepal length (cm)', 'sepal width (cm)', 'petal length (cm)', 'petal width (cm)']\n",
      "['setosa' 'versicolor' 'virginica']\n"
     ]
    }
   ],
   "source": [
    "iris = datasets.load_iris()\n",
    "print(iris.data[:3,:])\n",
    "print(iris.feature_names)\n",
    "print(iris.target_names)\n",
    "for i in range(len(iris.target)):\n",
    "    if iris.target[i] != 0:\n",
    "        iris.target[i] = 1\n",
    "train_data, test_data, train_label, test_label = train_test_split(iris.data, iris.target, test_size=0.2,)"
   ]
  },
  {
   "cell_type": "code",
   "execution_count": 3,
   "id": "865f1074",
   "metadata": {},
   "outputs": [
    {
     "name": "stdout",
     "output_type": "stream",
     "text": [
      "[[6.9 3.1 5.4 2.1]\n",
      " [4.7 3.2 1.6 0.2]\n",
      " [6.3 3.3 6.  2.5]\n",
      " [5.4 3.  4.5 1.5]\n",
      " [5.7 2.6 3.5 1. ]]\n",
      "[1 0 1 1 1]\n",
      "[[4.3 3.  1.1 0.1]\n",
      " [4.4 3.2 1.3 0.2]\n",
      " [6.8 3.2 5.9 2.3]\n",
      " [6.8 2.8 4.8 1.4]\n",
      " [5.6 3.  4.5 1.5]]\n",
      "[0 0 1 1 1]\n",
      "[[7.1 3.  5.9 2.1]\n",
      " [5.7 2.8 4.5 1.3]\n",
      " [4.8 3.  1.4 0.1]\n",
      " [4.9 2.5 4.5 1.7]\n",
      " [5.  3.  1.6 0.2]]\n",
      "[1 1 0 1 0]\n",
      "[[4.6 3.6 1.  0.2]\n",
      " [4.5 2.3 1.3 0.3]\n",
      " [5.5 2.6 4.4 1.2]\n",
      " [5.8 2.7 3.9 1.2]\n",
      " [5.8 2.7 4.1 1. ]]\n",
      "[0 0 1 1 1]\n",
      "[[5.7 2.8 4.1 1.3]\n",
      " [6.4 2.8 5.6 2.1]\n",
      " [7.9 3.8 6.4 2. ]\n",
      " [5.5 4.2 1.4 0.2]\n",
      " [6.7 3.3 5.7 2.1]]\n",
      "[1 1 1 0 1]\n",
      "[[5.1 3.5 1.4 0.3]\n",
      " [5.1 2.5 3.  1.1]\n",
      " [6.4 2.9 4.3 1.3]\n",
      " [5.  3.4 1.5 0.2]\n",
      " [5.  3.6 1.4 0.2]]\n",
      "[0 1 1 0 0]\n",
      "[[4.8 3.1 1.6 0.2]\n",
      " [5.7 2.5 5.  2. ]\n",
      " [6.7 3.  5.  1.7]\n",
      " [5.6 2.8 4.9 2. ]\n",
      " [7.7 3.8 6.7 2.2]]\n",
      "[0 1 1 1 1]\n",
      "[[6.3 2.3 4.4 1.3]\n",
      " [6.2 2.9 4.3 1.3]\n",
      " [6.3 2.5 5.  1.9]\n",
      " [5.9 3.  4.2 1.5]\n",
      " [6.  2.2 5.  1.5]]\n",
      "[1 1 1 1 1]\n",
      "[[5.6 2.7 4.2 1.3]\n",
      " [5.8 2.8 5.1 2.4]\n",
      " [7.7 2.6 6.9 2.3]\n",
      " [6.3 3.3 4.7 1.6]\n",
      " [6.  2.7 5.1 1.6]]\n",
      "[1 1 1 1 1]\n",
      "[[5.8 2.7 5.1 1.9]\n",
      " [6.  3.4 4.5 1.6]\n",
      " [6.5 3.  5.8 2.2]\n",
      " [6.4 3.2 4.5 1.5]\n",
      " [6.4 3.2 5.3 2.3]]\n",
      "[1 1 1 1 1]\n",
      "[[5.6 2.5 3.9 1.1]\n",
      " [4.9 3.6 1.4 0.1]\n",
      " [4.7 3.2 1.3 0.2]\n",
      " [6.3 2.5 4.9 1.5]\n",
      " [6.3 3.4 5.6 2.4]]\n",
      "[1 0 0 1 1]\n",
      "[[4.6 3.4 1.4 0.3]\n",
      " [4.6 3.2 1.4 0.2]\n",
      " [4.9 3.1 1.5 0.1]\n",
      " [4.9 3.  1.4 0.2]\n",
      " [6.7 3.1 4.7 1.5]]\n",
      "[0 0 0 0 1]\n",
      "[[6.1 2.6 5.6 1.4]\n",
      " [5.8 4.  1.2 0.2]\n",
      " [5.  2.  3.5 1. ]\n",
      " [5.1 3.8 1.9 0.4]\n",
      " [5.8 2.7 5.1 1.9]]\n",
      "[1 0 1 0 1]\n",
      "[[5.7 4.4 1.5 0.4]\n",
      " [5.1 3.7 1.5 0.4]\n",
      " [6.3 2.7 4.9 1.8]\n",
      " [6.3 2.9 5.6 1.8]\n",
      " [5.  3.4 1.6 0.4]]\n",
      "[0 0 1 1 0]\n",
      "[[6.  2.2 4.  1. ]\n",
      " [5.1 3.4 1.5 0.2]\n",
      " [6.9 3.1 5.1 2.3]\n",
      " [4.8 3.4 1.6 0.2]\n",
      " [6.7 3.1 4.4 1.4]]\n",
      "[1 0 1 0 1]\n",
      "[[6.2 2.8 4.8 1.8]\n",
      " [6.4 2.7 5.3 1.9]\n",
      " [6.8 3.  5.5 2.1]\n",
      " [6.9 3.1 4.9 1.5]\n",
      " [6.5 2.8 4.6 1.5]]\n",
      "[1 1 1 1 1]\n",
      "[[5.2 4.1 1.5 0.1]\n",
      " [4.8 3.  1.4 0.3]\n",
      " [5.  3.5 1.6 0.6]\n",
      " [6.9 3.2 5.7 2.3]\n",
      " [5.  2.3 3.3 1. ]]\n",
      "[0 0 0 1 1]\n",
      "[[6.7 3.1 5.6 2.4]\n",
      " [7.7 2.8 6.7 2. ]\n",
      " [5.5 3.5 1.3 0.2]\n",
      " [5.1 3.5 1.4 0.2]\n",
      " [6.7 3.3 5.7 2.5]]\n",
      "[1 1 0 0 1]\n",
      "[[6.6 3.  4.4 1.4]\n",
      " [5.6 3.  4.1 1.3]\n",
      " [5.5 2.5 4.  1.3]\n",
      " [5.6 2.9 3.6 1.3]\n",
      " [4.6 3.1 1.5 0.2]]\n",
      "[1 1 1 1 0]\n",
      "[[4.9 2.4 3.3 1. ]\n",
      " [5.5 2.4 3.7 1. ]\n",
      " [6.2 3.4 5.4 2.3]\n",
      " [5.1 3.3 1.7 0.5]\n",
      " [6.3 2.8 5.1 1.5]]\n",
      "[1 1 1 0 1]\n",
      "[[5.7 3.  4.2 1.2]\n",
      " [5.  3.2 1.2 0.2]\n",
      " [4.9 3.1 1.5 0.2]\n",
      " [6.5 3.  5.2 2. ]\n",
      " [5.7 3.8 1.7 0.3]]\n",
      "[1 0 0 1 0]\n",
      "[[5.9 3.2 4.8 1.8]\n",
      " [6.2 2.2 4.5 1.5]\n",
      " [5.5 2.3 4.  1.3]\n",
      " [6.5 3.  5.5 1.8]\n",
      " [6.  3.  4.8 1.8]]\n",
      "[1 1 1 1 1]\n",
      "[[6.  2.9 4.5 1.5]\n",
      " [5.1 3.8 1.5 0.3]\n",
      " [5.3 3.7 1.5 0.2]\n",
      " [6.4 2.8 5.6 2.2]\n",
      " [5.7 2.9 4.2 1.3]]\n",
      "[1 0 0 1 1]\n",
      "[[7.2 3.2 6.  1.8]\n",
      " [4.8 3.4 1.9 0.2]\n",
      " [7.7 3.  6.1 2.3]\n",
      " [7.3 2.9 6.3 1.8]\n",
      " [5.2 2.7 3.9 1.4]]\n",
      "[1 0 1 1 1]\n",
      "[[6.6 2.9 4.6 1.3]\n",
      " [6.4 3.1 5.5 1.8]\n",
      " [5.  3.5 1.3 0.3]\n",
      " [5.4 3.4 1.5 0.4]\n",
      " [5.8 2.6 4.  1.2]]\n",
      "[1 1 0 0 1]\n",
      "[[5.4 3.7 1.5 0.2]\n",
      " [7.4 2.8 6.1 1.9]\n",
      " [5.2 3.5 1.5 0.2]\n",
      " [5.4 3.9 1.3 0.4]\n",
      " [6.1 2.8 4.  1.3]]\n",
      "[0 1 0 0 1]\n",
      "[[6.5 3.2 5.1 2. ]\n",
      " [6.7 3.  5.2 2.3]\n",
      " [6.1 2.9 4.7 1.4]\n",
      " [5.4 3.9 1.7 0.4]\n",
      " [6.1 3.  4.6 1.4]]\n",
      "[1 1 1 0 1]\n",
      "[[6.1 3.  4.9 1.8]\n",
      " [6.7 2.5 5.8 1.8]\n",
      " [7.2 3.  5.8 1.6]\n",
      " [4.4 2.9 1.4 0.2]\n",
      " [6.1 2.8 4.7 1.2]]\n",
      "[1 1 1 0 1]\n",
      "[[7.2 3.6 6.1 2.5]\n",
      " [5.1 3.8 1.6 0.2]\n",
      " [5.  3.3 1.4 0.2]\n",
      " [5.2 3.4 1.4 0.2]\n",
      " [7.6 3.  6.6 2.1]]\n",
      "[1 0 0 0 1]\n",
      "[[5.5 2.4 3.8 1.1]\n",
      " [5.9 3.  5.1 1.8]\n",
      " [4.4 3.  1.3 0.2]\n",
      " [5.4 3.4 1.7 0.2]\n",
      " [7.  3.2 4.7 1.4]]\n",
      "[1 1 0 0 1]\n"
     ]
    }
   ],
   "source": [
    "def get_batch(features, labels, batch_size):\n",
    "    nums = len(features)\n",
    "    index = [i for i in range(nums)]\n",
    "    random.shuffle(index)\n",
    "    for i in range(0, nums, batch_size):\n",
    "        batch_index = index[i : min(i + batch_size, nums)]\n",
    "        yield features[batch_index], labels[batch_index]\n",
    "        \n",
    "        \n",
    "for x, y in get_batch(iris.data, iris.target, 5):\n",
    "    print(x)\n",
    "    print(y)"
   ]
  },
  {
   "cell_type": "code",
   "execution_count": 4,
   "id": "335f0fbb",
   "metadata": {},
   "outputs": [],
   "source": [
    "def sigmoid(X):\n",
    "    return 1.0/(1+np.exp(-X))"
   ]
  },
  {
   "cell_type": "code",
   "execution_count": 5,
   "id": "a7a7f262",
   "metadata": {},
   "outputs": [],
   "source": [
    "def cross_enrtropy(y, y_hat):\n",
    "    return -(y * np.log(y_hat) + (1 - y) * np.log(1 - y_hat))"
   ]
  },
  {
   "cell_type": "code",
   "execution_count": 6,
   "id": "aa04db75",
   "metadata": {},
   "outputs": [],
   "source": [
    "def sgd(X, Y, w, b, batch_size, learningrate):\n",
    "    gradient_w = (1/batch_size)*(np.dot(X.T, (sigmoid(np.dot(X, w.T))-Y)))\n",
    "    gradient_b = (1/batch_size)*(np.sum(sigmoid(np.dot(X, w.T))-Y))\n",
    "    w -= learningrate * gradient_w\n",
    "    b -= learningrate * gradient_b"
   ]
  },
  {
   "cell_type": "code",
   "execution_count": 7,
   "id": "d17551ad",
   "metadata": {},
   "outputs": [],
   "source": [
    "w = np.random.normal(0, 1, iris.data.shape[1])\n",
    "b = np.zeros(1)\n",
    "epoch = 100\n",
    "# 当batch_size等于样本大小时为BGD\n",
    "batch_size = 128\n",
    "learning_rate = 0.1\n",
    "train_loss = []\n",
    "for i in range(epoch):\n",
    "    for x, y in get_batch(train_data, train_label, batch_size):\n",
    "        sgd(x, y, w, b, batch_size, learning_rate)\n",
    "    train_loss.append(cross_enrtropy(y, sigmoid(np.dot(x, w.T) + b)).mean())"
   ]
  },
  {
   "cell_type": "code",
   "execution_count": 8,
   "id": "795b4bc5",
   "metadata": {},
   "outputs": [
    {
     "data": {
      "image/png": "[encoded data removed]",
      "text/plain": [
       "<Figure size 720x720 with 1 Axes>"
      ]
     },
     "metadata": {
      "needs_background": "light"
     },
     "output_type": "display_data"
    }
   ],
   "source": [
    "plt.figure(figsize=(10,10))\n",
    "plt.xlim((0, epoch))\n",
    "plt.ylim((-0, 1))\n",
    "plt.xlabel('epoch')\n",
    "plt.ylabel('loss')\n",
    "plt.plot(train_loss)\n",
    "plt.show()"
   ]
  },
  {
   "cell_type": "code",
   "execution_count": 9,
   "id": "813977a0",
   "metadata": {},
   "outputs": [],
   "source": [
    "def predict(x):\n",
    "    y = sigmoid(np.dot(x, w.T)+b)\n",
    "    return (y > 0.5).astype(int)    "
   ]
  },
  {
   "cell_type": "code",
   "execution_count": 10,
   "id": "f11de6e6",
   "metadata": {},
   "outputs": [
    {
     "name": "stdout",
     "output_type": "stream",
     "text": [
      "[[ 9.  0.]\n",
      " [ 0. 21.]]\n"
     ]
    },
    {
     "data": {
      "image/png": "[encoded data removed]",
      "text/plain": [
       "<Figure size 1080x1080 with 1 Axes>"
      ]
     },
     "metadata": {
      "needs_background": "light"
     },
     "output_type": "display_data"
    }
   ],
   "source": [
    "matrix = np.zeros((2,2))\n",
    "    \n",
    "predic = predict(test_data)\n",
    "for p, t in zip(predic, test_label):\n",
    "    matrix[p, t] += 1\n",
    "    \n",
    "print(matrix)\n",
    "\n",
    "plt.figure(figsize=(15,15))\n",
    "confusion = np.array(([91,0],[0,92]))\n",
    "# 热度图，后面是指定的颜色块，可设置其他的不同颜色\n",
    "plt.imshow(confusion, cmap=plt.cm.Blues)\n",
    "plt.xticks(range(2), ['非山鸢尾', '山鸢尾'], fontsize = 15)\n",
    "plt.yticks(range(2), ['非山鸢尾', '山鸢尾'], fontsize = 15)\n",
    "# plt.rcParams两行是用于解决标签不能显示汉字的问题\n",
    "plt.rcParams['font.sans-serif']=['SimHei']\n",
    "plt.rcParams['axes.unicode_minus'] = False\n",
    "plt.xlabel('预测值', fontsize = 28)\n",
    "plt.ylabel('真实值', fontsize = 28)\n",
    "plt.title('混淆矩阵',fontsize = 28)\n",
    "for x, z in enumerate(matrix):\n",
    "    for y, p in enumerate(z):\n",
    "        plt.text(x ,y, p, fontsize=28)\n",
    "plt.show()"
   ]
  },
  {
   "cell_type": "code",
   "execution_count": null,
   "id": "55d69baf",
   "metadata": {},
   "outputs": [],
   "source": []
  },
  {
   "cell_type": "code",
   "execution_count": null,
   "id": "4e46bbc4",
   "metadata": {},
   "outputs": [],
   "source": []
  },
  {
   "cell_type": "code",
   "execution_count": null,
   "id": "39177a81",
   "metadata": {},
   "outputs": [],
   "source": []
  }
 ],
 "metadata": {
  "kernelspec": {
   "display_name": "Python 3 (ipykernel)",
   "language": "python",
   "name": "python3"
  },
  "language_info": {
   "codemirror_mode": {
    "name": "ipython",
    "version": 3
   },
   "file_extension": ".py",
   "mimetype": "text/x-python",
   "name": "python",
   "nbconvert_exporter": "python",
   "pygments_lexer": "ipython3",
   "version": "3.9.7"
  }
 },
 "nbformat": 4,
 "nbformat_minor": 5
}
