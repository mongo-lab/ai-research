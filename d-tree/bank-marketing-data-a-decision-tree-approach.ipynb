{
 "cells": [
  {
   "cell_type": "code",
   "execution_count": null,
   "metadata": {},
   "outputs": [],
   "source": []
  },
  {
   "cell_type": "markdown",
   "metadata": {
    "_cell_guid": "e033a865-17a2-466a-8cde-a39cc6752deb",
    "_uuid": "c9e2806b423b6385a8d876545ab668324b6bb451"
   },
   "source": [
    "# Bank Marketing Data - A Decision Tree Approach"
   ]
  },
  {
   "cell_type": "markdown",
   "metadata": {
    "_cell_guid": "459ad1ed-0e10-4dd1-a4f1-893ba5368175",
    "_uuid": "08bb7d7c3677ca15a39a3569cef5d2071e9b015e"
   },
   "source": [
    "## Aim:\n",
    "The aim of this attempt is to predict if the client will subscribe (yes/no) to a term deposit, by building a classification model using Decision Tree.\n"
   ]
  },
  {
   "cell_type": "code",
   "execution_count": 5,
   "metadata": {
    "_cell_guid": "9e92f1a3-3e81-4ec6-a567-890827b0555c",
    "_uuid": "e5338e8c3fa6dc8f410d8b868aa78cb54621780b"
   },
   "outputs": [],
   "source": [
    "import pandas as pd\n",
    "import numpy as np\n",
    "import matplotlib.pyplot as plt\n",
    "import seaborn as sns\n",
    "from sklearn.cluster import KMeans\n",
    "from sklearn import datasets\n",
    "from io import StringIO\n",
    "from sklearn.tree import export_graphviz\n",
    "from sklearn.model_selection import train_test_split\n",
    "from sklearn import tree\n",
    "from sklearn import metrics\n",
    "%matplotlib inline"
   ]
  },
  {
   "cell_type": "code",
   "execution_count": 7,
   "metadata": {
    "_cell_guid": "52a87df3-04c2-4515-994a-9a3d0b85d3c3",
    "_uuid": "9700cff3c818070f8f202bc964e2a5ffc8c72aa5"
   },
   "outputs": [
    {
     "data": {
      "text/html": [
       "<div>\n",
       "<style scoped>\n",
       "    .dataframe tbody tr th:only-of-type {\n",
       "        vertical-align: middle;\n",
       "    }\n",
       "\n",
       "    .dataframe tbody tr th {\n",
       "        vertical-align: top;\n",
       "    }\n",
       "\n",
       "    .dataframe thead th {\n",
       "        text-align: right;\n",
       "    }\n",
       "</style>\n",
       "<table border=\"1\" class=\"dataframe\">\n",
       "  <thead>\n",
       "    <tr style=\"text-align: right;\">\n",
       "      <th></th>\n",
       "      <th>age</th>\n",
       "      <th>job</th>\n",
       "      <th>marital</th>\n",
       "      <th>education</th>\n",
       "      <th>default</th>\n",
       "      <th>balance</th>\n",
       "      <th>housing</th>\n",
       "      <th>loan</th>\n",
       "      <th>contact</th>\n",
       "      <th>day</th>\n",
       "      <th>month</th>\n",
       "      <th>duration</th>\n",
       "      <th>campaign</th>\n",
       "      <th>pdays</th>\n",
       "      <th>previous</th>\n",
       "      <th>poutcome</th>\n",
       "      <th>deposit</th>\n",
       "    </tr>\n",
       "  </thead>\n",
       "  <tbody>\n",
       "    <tr>\n",
       "      <th>0</th>\n",
       "      <td>59</td>\n",
       "      <td>admin.</td>\n",
       "      <td>married</td>\n",
       "      <td>secondary</td>\n",
       "      <td>no</td>\n",
       "      <td>2343</td>\n",
       "      <td>yes</td>\n",
       "      <td>no</td>\n",
       "      <td>unknown</td>\n",
       "      <td>5</td>\n",
       "      <td>may</td>\n",
       "      <td>1042</td>\n",
       "      <td>1</td>\n",
       "      <td>-1</td>\n",
       "      <td>0</td>\n",
       "      <td>unknown</td>\n",
       "      <td>yes</td>\n",
       "    </tr>\n",
       "    <tr>\n",
       "      <th>1</th>\n",
       "      <td>56</td>\n",
       "      <td>admin.</td>\n",
       "      <td>married</td>\n",
       "      <td>secondary</td>\n",
       "      <td>no</td>\n",
       "      <td>45</td>\n",
       "      <td>no</td>\n",
       "      <td>no</td>\n",
       "      <td>unknown</td>\n",
       "      <td>5</td>\n",
       "      <td>may</td>\n",
       "      <td>1467</td>\n",
       "      <td>1</td>\n",
       "      <td>-1</td>\n",
       "      <td>0</td>\n",
       "      <td>unknown</td>\n",
       "      <td>yes</td>\n",
       "    </tr>\n",
       "    <tr>\n",
       "      <th>2</th>\n",
       "      <td>41</td>\n",
       "      <td>technician</td>\n",
       "      <td>married</td>\n",
       "      <td>secondary</td>\n",
       "      <td>no</td>\n",
       "      <td>1270</td>\n",
       "      <td>yes</td>\n",
       "      <td>no</td>\n",
       "      <td>unknown</td>\n",
       "      <td>5</td>\n",
       "      <td>may</td>\n",
       "      <td>1389</td>\n",
       "      <td>1</td>\n",
       "      <td>-1</td>\n",
       "      <td>0</td>\n",
       "      <td>unknown</td>\n",
       "      <td>yes</td>\n",
       "    </tr>\n",
       "    <tr>\n",
       "      <th>3</th>\n",
       "      <td>55</td>\n",
       "      <td>services</td>\n",
       "      <td>married</td>\n",
       "      <td>secondary</td>\n",
       "      <td>no</td>\n",
       "      <td>2476</td>\n",
       "      <td>yes</td>\n",
       "      <td>no</td>\n",
       "      <td>unknown</td>\n",
       "      <td>5</td>\n",
       "      <td>may</td>\n",
       "      <td>579</td>\n",
       "      <td>1</td>\n",
       "      <td>-1</td>\n",
       "      <td>0</td>\n",
       "      <td>unknown</td>\n",
       "      <td>yes</td>\n",
       "    </tr>\n",
       "    <tr>\n",
       "      <th>4</th>\n",
       "      <td>54</td>\n",
       "      <td>admin.</td>\n",
       "      <td>married</td>\n",
       "      <td>tertiary</td>\n",
       "      <td>no</td>\n",
       "      <td>184</td>\n",
       "      <td>no</td>\n",
       "      <td>no</td>\n",
       "      <td>unknown</td>\n",
       "      <td>5</td>\n",
       "      <td>may</td>\n",
       "      <td>673</td>\n",
       "      <td>2</td>\n",
       "      <td>-1</td>\n",
       "      <td>0</td>\n",
       "      <td>unknown</td>\n",
       "      <td>yes</td>\n",
       "    </tr>\n",
       "    <tr>\n",
       "      <th>5</th>\n",
       "      <td>42</td>\n",
       "      <td>management</td>\n",
       "      <td>single</td>\n",
       "      <td>tertiary</td>\n",
       "      <td>no</td>\n",
       "      <td>0</td>\n",
       "      <td>yes</td>\n",
       "      <td>yes</td>\n",
       "      <td>unknown</td>\n",
       "      <td>5</td>\n",
       "      <td>may</td>\n",
       "      <td>562</td>\n",
       "      <td>2</td>\n",
       "      <td>-1</td>\n",
       "      <td>0</td>\n",
       "      <td>unknown</td>\n",
       "      <td>yes</td>\n",
       "    </tr>\n",
       "    <tr>\n",
       "      <th>6</th>\n",
       "      <td>56</td>\n",
       "      <td>management</td>\n",
       "      <td>married</td>\n",
       "      <td>tertiary</td>\n",
       "      <td>no</td>\n",
       "      <td>830</td>\n",
       "      <td>yes</td>\n",
       "      <td>yes</td>\n",
       "      <td>unknown</td>\n",
       "      <td>6</td>\n",
       "      <td>may</td>\n",
       "      <td>1201</td>\n",
       "      <td>1</td>\n",
       "      <td>-1</td>\n",
       "      <td>0</td>\n",
       "      <td>unknown</td>\n",
       "      <td>yes</td>\n",
       "    </tr>\n",
       "    <tr>\n",
       "      <th>7</th>\n",
       "      <td>60</td>\n",
       "      <td>retired</td>\n",
       "      <td>divorced</td>\n",
       "      <td>secondary</td>\n",
       "      <td>no</td>\n",
       "      <td>545</td>\n",
       "      <td>yes</td>\n",
       "      <td>no</td>\n",
       "      <td>unknown</td>\n",
       "      <td>6</td>\n",
       "      <td>may</td>\n",
       "      <td>1030</td>\n",
       "      <td>1</td>\n",
       "      <td>-1</td>\n",
       "      <td>0</td>\n",
       "      <td>unknown</td>\n",
       "      <td>yes</td>\n",
       "    </tr>\n",
       "    <tr>\n",
       "      <th>8</th>\n",
       "      <td>37</td>\n",
       "      <td>technician</td>\n",
       "      <td>married</td>\n",
       "      <td>secondary</td>\n",
       "      <td>no</td>\n",
       "      <td>1</td>\n",
       "      <td>yes</td>\n",
       "      <td>no</td>\n",
       "      <td>unknown</td>\n",
       "      <td>6</td>\n",
       "      <td>may</td>\n",
       "      <td>608</td>\n",
       "      <td>1</td>\n",
       "      <td>-1</td>\n",
       "      <td>0</td>\n",
       "      <td>unknown</td>\n",
       "      <td>yes</td>\n",
       "    </tr>\n",
       "    <tr>\n",
       "      <th>9</th>\n",
       "      <td>28</td>\n",
       "      <td>services</td>\n",
       "      <td>single</td>\n",
       "      <td>secondary</td>\n",
       "      <td>no</td>\n",
       "      <td>5090</td>\n",
       "      <td>yes</td>\n",
       "      <td>no</td>\n",
       "      <td>unknown</td>\n",
       "      <td>6</td>\n",
       "      <td>may</td>\n",
       "      <td>1297</td>\n",
       "      <td>3</td>\n",
       "      <td>-1</td>\n",
       "      <td>0</td>\n",
       "      <td>unknown</td>\n",
       "      <td>yes</td>\n",
       "    </tr>\n",
       "    <tr>\n",
       "      <th>10</th>\n",
       "      <td>38</td>\n",
       "      <td>admin.</td>\n",
       "      <td>single</td>\n",
       "      <td>secondary</td>\n",
       "      <td>no</td>\n",
       "      <td>100</td>\n",
       "      <td>yes</td>\n",
       "      <td>no</td>\n",
       "      <td>unknown</td>\n",
       "      <td>7</td>\n",
       "      <td>may</td>\n",
       "      <td>786</td>\n",
       "      <td>1</td>\n",
       "      <td>-1</td>\n",
       "      <td>0</td>\n",
       "      <td>unknown</td>\n",
       "      <td>yes</td>\n",
       "    </tr>\n",
       "    <tr>\n",
       "      <th>11</th>\n",
       "      <td>30</td>\n",
       "      <td>blue-collar</td>\n",
       "      <td>married</td>\n",
       "      <td>secondary</td>\n",
       "      <td>no</td>\n",
       "      <td>309</td>\n",
       "      <td>yes</td>\n",
       "      <td>no</td>\n",
       "      <td>unknown</td>\n",
       "      <td>7</td>\n",
       "      <td>may</td>\n",
       "      <td>1574</td>\n",
       "      <td>2</td>\n",
       "      <td>-1</td>\n",
       "      <td>0</td>\n",
       "      <td>unknown</td>\n",
       "      <td>yes</td>\n",
       "    </tr>\n",
       "    <tr>\n",
       "      <th>12</th>\n",
       "      <td>29</td>\n",
       "      <td>management</td>\n",
       "      <td>married</td>\n",
       "      <td>tertiary</td>\n",
       "      <td>no</td>\n",
       "      <td>199</td>\n",
       "      <td>yes</td>\n",
       "      <td>yes</td>\n",
       "      <td>unknown</td>\n",
       "      <td>7</td>\n",
       "      <td>may</td>\n",
       "      <td>1689</td>\n",
       "      <td>4</td>\n",
       "      <td>-1</td>\n",
       "      <td>0</td>\n",
       "      <td>unknown</td>\n",
       "      <td>yes</td>\n",
       "    </tr>\n",
       "    <tr>\n",
       "      <th>13</th>\n",
       "      <td>46</td>\n",
       "      <td>blue-collar</td>\n",
       "      <td>single</td>\n",
       "      <td>tertiary</td>\n",
       "      <td>no</td>\n",
       "      <td>460</td>\n",
       "      <td>yes</td>\n",
       "      <td>no</td>\n",
       "      <td>unknown</td>\n",
       "      <td>7</td>\n",
       "      <td>may</td>\n",
       "      <td>1102</td>\n",
       "      <td>2</td>\n",
       "      <td>-1</td>\n",
       "      <td>0</td>\n",
       "      <td>unknown</td>\n",
       "      <td>yes</td>\n",
       "    </tr>\n",
       "    <tr>\n",
       "      <th>14</th>\n",
       "      <td>31</td>\n",
       "      <td>technician</td>\n",
       "      <td>single</td>\n",
       "      <td>tertiary</td>\n",
       "      <td>no</td>\n",
       "      <td>703</td>\n",
       "      <td>yes</td>\n",
       "      <td>no</td>\n",
       "      <td>unknown</td>\n",
       "      <td>8</td>\n",
       "      <td>may</td>\n",
       "      <td>943</td>\n",
       "      <td>2</td>\n",
       "      <td>-1</td>\n",
       "      <td>0</td>\n",
       "      <td>unknown</td>\n",
       "      <td>yes</td>\n",
       "    </tr>\n",
       "    <tr>\n",
       "      <th>15</th>\n",
       "      <td>35</td>\n",
       "      <td>management</td>\n",
       "      <td>divorced</td>\n",
       "      <td>tertiary</td>\n",
       "      <td>no</td>\n",
       "      <td>3837</td>\n",
       "      <td>yes</td>\n",
       "      <td>no</td>\n",
       "      <td>unknown</td>\n",
       "      <td>8</td>\n",
       "      <td>may</td>\n",
       "      <td>1084</td>\n",
       "      <td>1</td>\n",
       "      <td>-1</td>\n",
       "      <td>0</td>\n",
       "      <td>unknown</td>\n",
       "      <td>yes</td>\n",
       "    </tr>\n",
       "    <tr>\n",
       "      <th>16</th>\n",
       "      <td>32</td>\n",
       "      <td>blue-collar</td>\n",
       "      <td>single</td>\n",
       "      <td>primary</td>\n",
       "      <td>no</td>\n",
       "      <td>611</td>\n",
       "      <td>yes</td>\n",
       "      <td>no</td>\n",
       "      <td>unknown</td>\n",
       "      <td>8</td>\n",
       "      <td>may</td>\n",
       "      <td>541</td>\n",
       "      <td>3</td>\n",
       "      <td>-1</td>\n",
       "      <td>0</td>\n",
       "      <td>unknown</td>\n",
       "      <td>yes</td>\n",
       "    </tr>\n",
       "    <tr>\n",
       "      <th>17</th>\n",
       "      <td>49</td>\n",
       "      <td>services</td>\n",
       "      <td>married</td>\n",
       "      <td>secondary</td>\n",
       "      <td>no</td>\n",
       "      <td>-8</td>\n",
       "      <td>yes</td>\n",
       "      <td>no</td>\n",
       "      <td>unknown</td>\n",
       "      <td>8</td>\n",
       "      <td>may</td>\n",
       "      <td>1119</td>\n",
       "      <td>1</td>\n",
       "      <td>-1</td>\n",
       "      <td>0</td>\n",
       "      <td>unknown</td>\n",
       "      <td>yes</td>\n",
       "    </tr>\n",
       "    <tr>\n",
       "      <th>18</th>\n",
       "      <td>41</td>\n",
       "      <td>admin.</td>\n",
       "      <td>married</td>\n",
       "      <td>secondary</td>\n",
       "      <td>no</td>\n",
       "      <td>55</td>\n",
       "      <td>yes</td>\n",
       "      <td>no</td>\n",
       "      <td>unknown</td>\n",
       "      <td>8</td>\n",
       "      <td>may</td>\n",
       "      <td>1120</td>\n",
       "      <td>2</td>\n",
       "      <td>-1</td>\n",
       "      <td>0</td>\n",
       "      <td>unknown</td>\n",
       "      <td>yes</td>\n",
       "    </tr>\n",
       "    <tr>\n",
       "      <th>19</th>\n",
       "      <td>49</td>\n",
       "      <td>admin.</td>\n",
       "      <td>divorced</td>\n",
       "      <td>secondary</td>\n",
       "      <td>no</td>\n",
       "      <td>168</td>\n",
       "      <td>yes</td>\n",
       "      <td>yes</td>\n",
       "      <td>unknown</td>\n",
       "      <td>8</td>\n",
       "      <td>may</td>\n",
       "      <td>513</td>\n",
       "      <td>1</td>\n",
       "      <td>-1</td>\n",
       "      <td>0</td>\n",
       "      <td>unknown</td>\n",
       "      <td>yes</td>\n",
       "    </tr>\n",
       "  </tbody>\n",
       "</table>\n",
       "</div>"
      ],
      "text/plain": [
       "    age          job   marital  education default  balance housing loan  \\\n",
       "0    59       admin.   married  secondary      no     2343     yes   no   \n",
       "1    56       admin.   married  secondary      no       45      no   no   \n",
       "2    41   technician   married  secondary      no     1270     yes   no   \n",
       "3    55     services   married  secondary      no     2476     yes   no   \n",
       "4    54       admin.   married   tertiary      no      184      no   no   \n",
       "5    42   management    single   tertiary      no        0     yes  yes   \n",
       "6    56   management   married   tertiary      no      830     yes  yes   \n",
       "7    60      retired  divorced  secondary      no      545     yes   no   \n",
       "8    37   technician   married  secondary      no        1     yes   no   \n",
       "9    28     services    single  secondary      no     5090     yes   no   \n",
       "10   38       admin.    single  secondary      no      100     yes   no   \n",
       "11   30  blue-collar   married  secondary      no      309     yes   no   \n",
       "12   29   management   married   tertiary      no      199     yes  yes   \n",
       "13   46  blue-collar    single   tertiary      no      460     yes   no   \n",
       "14   31   technician    single   tertiary      no      703     yes   no   \n",
       "15   35   management  divorced   tertiary      no     3837     yes   no   \n",
       "16   32  blue-collar    single    primary      no      611     yes   no   \n",
       "17   49     services   married  secondary      no       -8     yes   no   \n",
       "18   41       admin.   married  secondary      no       55     yes   no   \n",
       "19   49       admin.  divorced  secondary      no      168     yes  yes   \n",
       "\n",
       "    contact  day month  duration  campaign  pdays  previous poutcome deposit  \n",
       "0   unknown    5   may      1042         1     -1         0  unknown     yes  \n",
       "1   unknown    5   may      1467         1     -1         0  unknown     yes  \n",
       "2   unknown    5   may      1389         1     -1         0  unknown     yes  \n",
       "3   unknown    5   may       579         1     -1         0  unknown     yes  \n",
       "4   unknown    5   may       673         2     -1         0  unknown     yes  \n",
       "5   unknown    5   may       562         2     -1         0  unknown     yes  \n",
       "6   unknown    6   may      1201         1     -1         0  unknown     yes  \n",
       "7   unknown    6   may      1030         1     -1         0  unknown     yes  \n",
       "8   unknown    6   may       608         1     -1         0  unknown     yes  \n",
       "9   unknown    6   may      1297         3     -1         0  unknown     yes  \n",
       "10  unknown    7   may       786         1     -1         0  unknown     yes  \n",
       "11  unknown    7   may      1574         2     -1         0  unknown     yes  \n",
       "12  unknown    7   may      1689         4     -1         0  unknown     yes  \n",
       "13  unknown    7   may      1102         2     -1         0  unknown     yes  \n",
       "14  unknown    8   may       943         2     -1         0  unknown     yes  \n",
       "15  unknown    8   may      1084         1     -1         0  unknown     yes  \n",
       "16  unknown    8   may       541         3     -1         0  unknown     yes  \n",
       "17  unknown    8   may      1119         1     -1         0  unknown     yes  \n",
       "18  unknown    8   may      1120         2     -1         0  unknown     yes  \n",
       "19  unknown    8   may       513         1     -1         0  unknown     yes  "
      ]
     },
     "execution_count": 7,
     "metadata": {},
     "output_type": "execute_result"
    }
   ],
   "source": [
    "# Load data file\n",
    "bank=pd.read_csv('data/bank.csv')\n",
    "bank.head(20)"
   ]
  },
  {
   "cell_type": "markdown",
   "metadata": {
    "_cell_guid": "a727fd41-6e6e-424f-b65f-18c723b289a9",
    "_uuid": "de29791be07bcac0927cccfb6e858044d1b882ca"
   },
   "source": [
    "## Summay of data\n",
    "\n",
    "### Categorical Variables :\n",
    "**[1] job      :** admin,technician, services, management, retired, blue-collar, unemployed, entrepreneur,\n",
    "               housemaid, unknown, self-employed, student\n",
    "<br>**[2] marital  :** married, single, divorced\n",
    "<br>**[3] education:** secondary, tertiary, primary, unknown\n",
    "<br>**[4] default  :** yes, no\n",
    "<br>**[5] housing  :** yes, no\n",
    "<br>**[6] loan     :** yes, no \n",
    "<br>**[7] deposit  :** yes, no ** (Dependent Variable)**\n",
    "<br>**[8] contact  :** unknown, cellular, telephone\n",
    "<br>**[9] month    :** jan, feb, mar, apr, may, jun, jul, aug, sep, oct, nov, dec\n",
    "<br>**[10] poutcome:** unknown, other, failure, success\n",
    "\n",
    "### Numerical Variables:\n",
    "**[1] age \n",
    "<br>[2] balance\n",
    "<br>[3] day\n",
    "<br>[4] duration\n",
    "<br>[5] campaign\n",
    "<br>[6] pdays\n",
    "<br>[7] previous **"
   ]
  },
  {
   "cell_type": "code",
   "execution_count": 8,
   "metadata": {
    "_cell_guid": "142f9bce-cf27-45c6-a776-0ad6e8c660c9",
    "_uuid": "f928d98a7f2c9fda54ee20d38b3d03101339e451"
   },
   "outputs": [
    {
     "data": {
      "text/plain": [
       "age          0\n",
       "job          0\n",
       "marital      0\n",
       "education    0\n",
       "default      0\n",
       "balance      0\n",
       "housing      0\n",
       "loan         0\n",
       "contact      0\n",
       "day          0\n",
       "month        0\n",
       "duration     0\n",
       "campaign     0\n",
       "pdays        0\n",
       "previous     0\n",
       "poutcome     0\n",
       "deposit      0\n",
       "dtype: int64"
      ]
     },
     "execution_count": 8,
     "metadata": {},
     "output_type": "execute_result"
    }
   ],
   "source": [
    "# Check if the data set contains any null values - Nothing found!\n",
    "bank[bank.isnull().any(axis=1)].count()"
   ]
  },
  {
   "cell_type": "code",
   "execution_count": 9,
   "metadata": {
    "_cell_guid": "a484827c-4ca4-42ce-895a-8228f4b86c31",
    "_uuid": "8d03c75ae5115ebc97a26ac95408240177c7fc3f"
   },
   "outputs": [
    {
     "data": {
      "text/html": [
       "<div>\n",
       "<style scoped>\n",
       "    .dataframe tbody tr th:only-of-type {\n",
       "        vertical-align: middle;\n",
       "    }\n",
       "\n",
       "    .dataframe tbody tr th {\n",
       "        vertical-align: top;\n",
       "    }\n",
       "\n",
       "    .dataframe thead th {\n",
       "        text-align: right;\n",
       "    }\n",
       "</style>\n",
       "<table border=\"1\" class=\"dataframe\">\n",
       "  <thead>\n",
       "    <tr style=\"text-align: right;\">\n",
       "      <th></th>\n",
       "      <th>age</th>\n",
       "      <th>balance</th>\n",
       "      <th>day</th>\n",
       "      <th>duration</th>\n",
       "      <th>campaign</th>\n",
       "      <th>pdays</th>\n",
       "      <th>previous</th>\n",
       "    </tr>\n",
       "  </thead>\n",
       "  <tbody>\n",
       "    <tr>\n",
       "      <th>count</th>\n",
       "      <td>11162.000000</td>\n",
       "      <td>11162.000000</td>\n",
       "      <td>11162.000000</td>\n",
       "      <td>11162.000000</td>\n",
       "      <td>11162.000000</td>\n",
       "      <td>11162.000000</td>\n",
       "      <td>11162.000000</td>\n",
       "    </tr>\n",
       "    <tr>\n",
       "      <th>mean</th>\n",
       "      <td>41.231948</td>\n",
       "      <td>1528.538524</td>\n",
       "      <td>15.658036</td>\n",
       "      <td>371.993818</td>\n",
       "      <td>2.508421</td>\n",
       "      <td>51.330407</td>\n",
       "      <td>0.832557</td>\n",
       "    </tr>\n",
       "    <tr>\n",
       "      <th>std</th>\n",
       "      <td>11.913369</td>\n",
       "      <td>3225.413326</td>\n",
       "      <td>8.420740</td>\n",
       "      <td>347.128386</td>\n",
       "      <td>2.722077</td>\n",
       "      <td>108.758282</td>\n",
       "      <td>2.292007</td>\n",
       "    </tr>\n",
       "    <tr>\n",
       "      <th>min</th>\n",
       "      <td>18.000000</td>\n",
       "      <td>-6847.000000</td>\n",
       "      <td>1.000000</td>\n",
       "      <td>2.000000</td>\n",
       "      <td>1.000000</td>\n",
       "      <td>-1.000000</td>\n",
       "      <td>0.000000</td>\n",
       "    </tr>\n",
       "    <tr>\n",
       "      <th>25%</th>\n",
       "      <td>32.000000</td>\n",
       "      <td>122.000000</td>\n",
       "      <td>8.000000</td>\n",
       "      <td>138.000000</td>\n",
       "      <td>1.000000</td>\n",
       "      <td>-1.000000</td>\n",
       "      <td>0.000000</td>\n",
       "    </tr>\n",
       "    <tr>\n",
       "      <th>50%</th>\n",
       "      <td>39.000000</td>\n",
       "      <td>550.000000</td>\n",
       "      <td>15.000000</td>\n",
       "      <td>255.000000</td>\n",
       "      <td>2.000000</td>\n",
       "      <td>-1.000000</td>\n",
       "      <td>0.000000</td>\n",
       "    </tr>\n",
       "    <tr>\n",
       "      <th>75%</th>\n",
       "      <td>49.000000</td>\n",
       "      <td>1708.000000</td>\n",
       "      <td>22.000000</td>\n",
       "      <td>496.000000</td>\n",
       "      <td>3.000000</td>\n",
       "      <td>20.750000</td>\n",
       "      <td>1.000000</td>\n",
       "    </tr>\n",
       "    <tr>\n",
       "      <th>max</th>\n",
       "      <td>95.000000</td>\n",
       "      <td>81204.000000</td>\n",
       "      <td>31.000000</td>\n",
       "      <td>3881.000000</td>\n",
       "      <td>63.000000</td>\n",
       "      <td>854.000000</td>\n",
       "      <td>58.000000</td>\n",
       "    </tr>\n",
       "  </tbody>\n",
       "</table>\n",
       "</div>"
      ],
      "text/plain": [
       "                age       balance           day      duration      campaign  \\\n",
       "count  11162.000000  11162.000000  11162.000000  11162.000000  11162.000000   \n",
       "mean      41.231948   1528.538524     15.658036    371.993818      2.508421   \n",
       "std       11.913369   3225.413326      8.420740    347.128386      2.722077   \n",
       "min       18.000000  -6847.000000      1.000000      2.000000      1.000000   \n",
       "25%       32.000000    122.000000      8.000000    138.000000      1.000000   \n",
       "50%       39.000000    550.000000     15.000000    255.000000      2.000000   \n",
       "75%       49.000000   1708.000000     22.000000    496.000000      3.000000   \n",
       "max       95.000000  81204.000000     31.000000   3881.000000     63.000000   \n",
       "\n",
       "              pdays      previous  \n",
       "count  11162.000000  11162.000000  \n",
       "mean      51.330407      0.832557  \n",
       "std      108.758282      2.292007  \n",
       "min       -1.000000      0.000000  \n",
       "25%       -1.000000      0.000000  \n",
       "50%       -1.000000      0.000000  \n",
       "75%       20.750000      1.000000  \n",
       "max      854.000000     58.000000  "
      ]
     },
     "execution_count": 9,
     "metadata": {},
     "output_type": "execute_result"
    }
   ],
   "source": [
    "bank.describe()"
   ]
  },
  {
   "cell_type": "code",
   "execution_count": 10,
   "metadata": {
    "_cell_guid": "e6ba8fa2-01b7-4367-a270-f1920256d5fa",
    "_uuid": "7903e72092085d476e25da6c9d8c21944828860e"
   },
   "outputs": [
    {
     "data": {
      "image/png": "[encoded data removed]",
      "text/plain": [
       "<Figure size 432x288 with 1 Axes>"
      ]
     },
     "metadata": {
      "needs_background": "light"
     },
     "output_type": "display_data"
    }
   ],
   "source": [
    "# Boxplot for 'age'\n",
    "g = sns.boxplot(x=bank[\"age\"])"
   ]
  },
  {
   "cell_type": "code",
   "execution_count": 11,
   "metadata": {
    "_cell_guid": "acc641bd-9106-4ad0-9bad-f2697c928a7b",
    "_uuid": "abb417d0393ff2fc1aabb4de00e3abdf62a6bee5"
   },
   "outputs": [
    {
     "name": "stderr",
     "output_type": "stream",
     "text": [
      "D:\\Python\\Anaconda3\\lib\\site-packages\\seaborn\\distributions.py:2557: FutureWarning: `distplot` is a deprecated function and will be removed in a future version. Please adapt your code to use either `displot` (a figure-level function with similar flexibility) or `histplot` (an axes-level function for histograms).\n",
      "  warnings.warn(msg, FutureWarning)\n"
     ]
    },
    {
     "data": {
      "text/plain": [
       "<AxesSubplot:xlabel='age', ylabel='Density'>"
      ]
     },
     "execution_count": 11,
     "metadata": {},
     "output_type": "execute_result"
    },
    {
     "data": {
      "image/png": "[encoded data removed]",
      "text/plain": [
       "<Figure size 432x288 with 1 Axes>"
      ]
     },
     "metadata": {
      "needs_background": "light"
     },
     "output_type": "display_data"
    }
   ],
   "source": [
    "# Distribution of Age\n",
    "sns.distplot(bank.age, bins=100)"
   ]
  },
  {
   "cell_type": "code",
   "execution_count": 12,
   "metadata": {
    "_cell_guid": "adfd247f-d1ca-4d7e-8051-68953444c45e",
    "_uuid": "2dee5b84f833a8dadecc5ad650b51bccef68171e"
   },
   "outputs": [
    {
     "data": {
      "image/png": "[encoded data removed]",
      "text/plain": [
       "<Figure size 432x288 with 1 Axes>"
      ]
     },
     "metadata": {
      "needs_background": "light"
     },
     "output_type": "display_data"
    }
   ],
   "source": [
    "# Boxplot for 'duration'\n",
    "g = sns.boxplot(x=bank[\"duration\"])"
   ]
  },
  {
   "cell_type": "code",
   "execution_count": 13,
   "metadata": {
    "_cell_guid": "42f62c14-5580-4d61-93ae-183544f8aed7",
    "_uuid": "c4fea6ac4146428ee87a210f0bcd3cd6bc635a46"
   },
   "outputs": [
    {
     "name": "stderr",
     "output_type": "stream",
     "text": [
      "D:\\Python\\Anaconda3\\lib\\site-packages\\seaborn\\distributions.py:2557: FutureWarning: `distplot` is a deprecated function and will be removed in a future version. Please adapt your code to use either `displot` (a figure-level function with similar flexibility) or `histplot` (an axes-level function for histograms).\n",
      "  warnings.warn(msg, FutureWarning)\n"
     ]
    },
    {
     "data": {
      "text/plain": [
       "<AxesSubplot:xlabel='duration', ylabel='Density'>"
      ]
     },
     "execution_count": 13,
     "metadata": {},
     "output_type": "execute_result"
    },
    {
     "data": {
      "image/png": "[encoded data removed]",
      "text/plain": [
       "<Figure size 432x288 with 1 Axes>"
      ]
     },
     "metadata": {
      "needs_background": "light"
     },
     "output_type": "display_data"
    }
   ],
   "source": [
    "sns.distplot(bank.duration, bins=100)"
   ]
  },
  {
   "cell_type": "markdown",
   "metadata": {
    "_cell_guid": "f8e3b055-7d8e-4723-9e57-4a1e454ef194",
    "_uuid": "d8cf9f54203152a76a7e8a03c3003644eb59525f"
   },
   "source": [
    "### Convert categorical data"
   ]
  },
  {
   "cell_type": "code",
   "execution_count": 31,
   "metadata": {
    "_cell_guid": "353340bc-f258-4ca4-96ae-ce3dd6da9e4f",
    "_uuid": "fa62612c19f6f510de6155f1f279d6aa812b9d22"
   },
   "outputs": [],
   "source": [
    "# Make a copy for parsing\n",
    "bank_data = bank.copy()"
   ]
  },
  {
   "cell_type": "markdown",
   "metadata": {
    "_cell_guid": "2aaa6278-7388-461b-b0a6-7d0965872ca2",
    "_uuid": "753b4f0d672266ac598f1afe35952245951ac8b1"
   },
   "source": [
    "#### ------------------------------ job ------------------------------"
   ]
  },
  {
   "cell_type": "code",
   "execution_count": 32,
   "metadata": {
    "_cell_guid": "29ebb749-1a14-4ea7-85bb-e148945ed328",
    "_uuid": "757d1a8bfab2c64c59bcd78a12eb43721e198758"
   },
   "outputs": [
    {
     "name": "stdout",
     "output_type": "stream",
     "text": [
      "management      :  1301\n",
      "blue-collar     :   708\n",
      "technician      :   840\n",
      "admin.          :   631\n",
      "services        :   369\n",
      "retired         :   516\n",
      "self-employed   :   187\n",
      "student         :   269\n",
      "unemployed      :   202\n",
      "entrepreneur    :   123\n",
      "housemaid       :   109\n",
      "unknown         :    34\n"
     ]
    }
   ],
   "source": [
    "# Explore People who made a deposit Vs Job category\n",
    "jobs = ['management','blue-collar','technician','admin.','services','retired','self-employed','student',\\\n",
    "        'unemployed','entrepreneur','housemaid','unknown']\n",
    "\n",
    "for j in jobs:\n",
    "    print(\"{:15} : {:5}\". format(j, len(bank_data[(bank_data.deposit == \"yes\") & (bank_data.job ==j)])))"
   ]
  },
  {
   "cell_type": "code",
   "execution_count": 33,
   "metadata": {
    "_cell_guid": "cf54d19e-ab5b-4b16-8c17-a1d441675e4e",
    "_uuid": "6c5d8eb98fc23a74d8e235d1816758e760ae7222"
   },
   "outputs": [
    {
     "data": {
      "text/plain": [
       "management       2566\n",
       "blue-collar      1944\n",
       "technician       1823\n",
       "admin.           1334\n",
       "services          923\n",
       "retired           778\n",
       "self-employed     405\n",
       "student           360\n",
       "unemployed        357\n",
       "entrepreneur      328\n",
       "housemaid         274\n",
       "unknown            70\n",
       "Name: job, dtype: int64"
      ]
     },
     "execution_count": 33,
     "metadata": {},
     "output_type": "execute_result"
    }
   ],
   "source": [
    "# Different types of job categories and their counts\n",
    "bank_data.job.value_counts()"
   ]
  },
  {
   "cell_type": "code",
   "execution_count": 34,
   "metadata": {
    "_cell_guid": "fdcd5741-12b8-4b48-99b6-bd6e834f0da9",
    "_uuid": "58840f83e0b4fb1ea28c8aaebc109359f21e86e1"
   },
   "outputs": [],
   "source": [
    "# Combine similar jobs into categiroes\n",
    "bank_data['job'] = bank_data['job'].replace(['management', 'admin.'], 'white-collar')\n",
    "bank_data['job'] = bank_data['job'].replace(['services','housemaid'], 'pink-collar')\n",
    "bank_data['job'] = bank_data['job'].replace(['retired', 'student', 'unemployed', 'unknown'], 'other')"
   ]
  },
  {
   "cell_type": "code",
   "execution_count": 35,
   "metadata": {
    "_cell_guid": "6c44a280-708c-472e-8a9d-454130ebd29f",
    "_uuid": "60184753637b373ef973a5c38cd15bf51a1e58ac"
   },
   "outputs": [
    {
     "data": {
      "text/plain": [
       "white-collar     3900\n",
       "blue-collar      1944\n",
       "technician       1823\n",
       "other            1565\n",
       "pink-collar      1197\n",
       "self-employed     405\n",
       "entrepreneur      328\n",
       "Name: job, dtype: int64"
      ]
     },
     "execution_count": 35,
     "metadata": {},
     "output_type": "execute_result"
    }
   ],
   "source": [
    "# New value counts\n",
    "bank_data.job.value_counts()"
   ]
  },
  {
   "cell_type": "markdown",
   "metadata": {
    "_cell_guid": "c446c4b5-d0ce-48e1-8ceb-6431e49ad97e",
    "_uuid": "36fcf9b5b0dc9374f7540f918be453ece6eec86e"
   },
   "source": [
    "#### ------------------------------ poutcome ------------------------------"
   ]
  },
  {
   "cell_type": "code",
   "execution_count": 36,
   "metadata": {
    "_cell_guid": "6516214b-7dab-4c4b-9abe-dd53db689a79",
    "_uuid": "791b50d069b7a06e57095974f5c9c0e0d0c9b55d"
   },
   "outputs": [
    {
     "data": {
      "text/plain": [
       "unknown    8326\n",
       "failure    1228\n",
       "success    1071\n",
       "other       537\n",
       "Name: poutcome, dtype: int64"
      ]
     },
     "execution_count": 36,
     "metadata": {},
     "output_type": "execute_result"
    }
   ],
   "source": [
    "bank_data.poutcome.value_counts()"
   ]
  },
  {
   "cell_type": "code",
   "execution_count": 37,
   "metadata": {
    "_cell_guid": "b827ea76-4adb-4472-9def-ebd268d5586f",
    "_uuid": "dd9bc0417c255963d08c7eb721dde66b32d406dc"
   },
   "outputs": [
    {
     "data": {
      "text/plain": [
       "unknown    8863\n",
       "failure    1228\n",
       "success    1071\n",
       "Name: poutcome, dtype: int64"
      ]
     },
     "execution_count": 37,
     "metadata": {},
     "output_type": "execute_result"
    }
   ],
   "source": [
    "# Combine 'unknown' and 'other' as 'other' isn't really match with either 'success' or 'failure'\n",
    "bank_data['poutcome'] = bank_data['poutcome'].replace(['other'] , 'unknown')\n",
    "bank_data.poutcome.value_counts()"
   ]
  },
  {
   "cell_type": "markdown",
   "metadata": {
    "_cell_guid": "643362de-18ca-45c2-95a9-6ca2c19f0144",
    "_uuid": "154cad1a97e082dea7fefef0084301c391b78bf9"
   },
   "source": [
    "#### ------------------------------ contact ------------------------------"
   ]
  },
  {
   "cell_type": "code",
   "execution_count": 38,
   "metadata": {
    "_cell_guid": "edf8d6c3-f66a-4521-bb82-13de0e175244",
    "_uuid": "7b3cd6910378c11f5edacde330f5a312d0f58d16"
   },
   "outputs": [],
   "source": [
    "# Drop 'contact', as every participant has been contacted. \n",
    "bank_data.drop('contact', axis=1, inplace=True)"
   ]
  },
  {
   "cell_type": "markdown",
   "metadata": {
    "_cell_guid": "167de291-a2df-4371-837b-25cc84121fc9",
    "_uuid": "8d519172290ca18fd70843a45677e0524b460a8c"
   },
   "source": [
    "#### ------------------------------ default ------------------------------"
   ]
  },
  {
   "cell_type": "code",
   "execution_count": 39,
   "metadata": {
    "_cell_guid": "9445241c-8d2f-4552-a879-f35bd08155ee",
    "_uuid": "35a4bc625d393ae0b38076c7bdb88e12be134acf"
   },
   "outputs": [],
   "source": [
    "# values for \"default\" : yes/no\n",
    "bank_data[\"default\"]\n",
    "bank_data['default_cat'] = bank_data['default'].map( {'yes':1, 'no':0} )\n",
    "bank_data.drop('default', axis=1,inplace = True)"
   ]
  },
  {
   "cell_type": "markdown",
   "metadata": {
    "_cell_guid": "e69fa9cf-4b44-450e-9c11-52edad2336c0",
    "_uuid": "71c97178c06dfb20561a6f4813eaf48f16270ed2"
   },
   "source": [
    "#### ------------------------------ housing ------------------------------"
   ]
  },
  {
   "cell_type": "code",
   "execution_count": 40,
   "metadata": {
    "_cell_guid": "9f33486b-6c4c-4a12-9174-54be5f788091",
    "_uuid": "5625dd9f23af740ce738cb5f1d45ca18dc4d3fe6"
   },
   "outputs": [],
   "source": [
    "# values for \"housing\" : yes/no\n",
    "bank_data[\"housing_cat\"]=bank_data['housing'].map({'yes':1, 'no':0})\n",
    "bank_data.drop('housing', axis=1,inplace = True)"
   ]
  },
  {
   "cell_type": "markdown",
   "metadata": {
    "_cell_guid": "f4be5aa2-9702-4b64-a732-b473ac696631",
    "_uuid": "dfae48f26206aa2f27803205e071841fa877307c"
   },
   "source": [
    "#### ------------------------------ loan ------------------------------"
   ]
  },
  {
   "cell_type": "code",
   "execution_count": 41,
   "metadata": {
    "_cell_guid": "c1b2dc72-ee07-4995-aa5e-e5bbd0a541b8",
    "_uuid": "557f3471b7552919b437e703005830585a715e56"
   },
   "outputs": [],
   "source": [
    "# values for \"loan\" : yes/no\n",
    "bank_data[\"loan_cat\"] = bank_data['loan'].map({'yes':1, 'no':0})\n",
    "bank_data.drop('loan', axis=1, inplace=True)"
   ]
  },
  {
   "cell_type": "markdown",
   "metadata": {
    "_cell_guid": "422662b8-94f4-4b1f-a61c-71dca5627c7c",
    "_uuid": "f94605bb3c4f22900794ad6b1d066d3808d9d5b1"
   },
   "source": [
    "#### ------------------------------ month, day ------------------------------"
   ]
  },
  {
   "cell_type": "code",
   "execution_count": 42,
   "metadata": {
    "_cell_guid": "a004d399-5d98-4767-a629-4008e834a501",
    "_uuid": "24b3d3f4534ea7b714743123dc7f1186d6c6165a"
   },
   "outputs": [],
   "source": [
    "# day  : last contact day of the month\n",
    "# month: last contact month of year\n",
    "# Drop 'month' and 'day' as they don't have any intrinsic meaning\n",
    "bank_data.drop('month', axis=1, inplace=True)\n",
    "bank_data.drop('day', axis=1, inplace=True)"
   ]
  },
  {
   "cell_type": "markdown",
   "metadata": {
    "_cell_guid": "3114fee4-f7f6-4bb3-9e9e-30080deacae8",
    "_uuid": "082214ade8f57c636812167b6b6f11a291209234"
   },
   "source": [
    "#### ------------------------------ deposit ------------------------------"
   ]
  },
  {
   "cell_type": "code",
   "execution_count": 43,
   "metadata": {
    "_cell_guid": "824acb7c-9ebb-4ec3-abc2-91b3a8dfbba8",
    "_uuid": "8983691ec985826964e224d851c47fa53d5189a3"
   },
   "outputs": [],
   "source": [
    "# values for \"deposit\" : yes/no\n",
    "bank_data[\"deposit_cat\"] = bank_data['deposit'].map({'yes':1, 'no':0})\n",
    "bank_data.drop('deposit', axis=1, inplace=True)"
   ]
  },
  {
   "cell_type": "markdown",
   "metadata": {
    "_cell_guid": "6a07560d-d8d6-44a7-bc40-e3fefe56c07a",
    "_uuid": "ae91146f0a733b46f2ffc929e6c15c637b5a5464"
   },
   "source": [
    "#### ------------------------------ pdays ------------------------------"
   ]
  },
  {
   "cell_type": "code",
   "execution_count": 44,
   "metadata": {
    "_cell_guid": "a0a43966-0a0a-4c87-9fbb-98753440475e",
    "_uuid": "a9285460820d03a8a46b00efa4ab5c0b7bfdfdba"
   },
   "outputs": [
    {
     "name": "stdout",
     "output_type": "stream",
     "text": [
      "Customers that have not been contacted before: 8324\n",
      "Maximum values on padys    : 854\n"
     ]
    }
   ],
   "source": [
    "# pdays: number of days that passed by after the client was last contacted from a previous campaign\n",
    "#       -1 means client was not previously contacted\n",
    "\n",
    "print(\"Customers that have not been contacted before:\", len(bank_data[bank_data.pdays==-1]))\n",
    "print(\"Maximum values on padys    :\", bank_data['pdays'].max())"
   ]
  },
  {
   "cell_type": "code",
   "execution_count": 45,
   "metadata": {
    "_cell_guid": "27c4a40d-a6e7-455f-85ef-db661c2f3bf6",
    "_uuid": "4a5ce52f6514b2c6a98a05496f464958bb08e6d1"
   },
   "outputs": [],
   "source": [
    "# Map padys=-1 into a large value (10000 is used) to indicate that it is so far in the past that it has no effect\n",
    "bank_data.loc[bank_data['pdays'] == -1, 'pdays'] = 10000"
   ]
  },
  {
   "cell_type": "code",
   "execution_count": 46,
   "metadata": {
    "_cell_guid": "dc334f4c-7756-42d0-884e-c87c8c205b72",
    "_uuid": "32aed7514950db77534edf31950599dd2de13174"
   },
   "outputs": [],
   "source": [
    "# Create a new column: recent_pdays \n",
    "bank_data['recent_pdays'] = np.where(bank_data['pdays'], 1/bank_data.pdays, 1/bank_data.pdays)\n",
    "\n",
    "# Drop 'pdays'\n",
    "bank_data.drop('pdays', axis=1, inplace = True)"
   ]
  },
  {
   "cell_type": "code",
   "execution_count": 47,
   "metadata": {
    "_cell_guid": "d081cff8-2b59-449e-aa9d-c47b95bf9f3b",
    "_uuid": "0fd651329be4e215dfe12e7d0dcd825081fc22bb"
   },
   "outputs": [
    {
     "data": {
      "text/html": [
       "<div>\n",
       "<style scoped>\n",
       "    .dataframe tbody tr th:only-of-type {\n",
       "        vertical-align: middle;\n",
       "    }\n",
       "\n",
       "    .dataframe tbody tr th {\n",
       "        vertical-align: top;\n",
       "    }\n",
       "\n",
       "    .dataframe thead th {\n",
       "        text-align: right;\n",
       "    }\n",
       "</style>\n",
       "<table border=\"1\" class=\"dataframe\">\n",
       "  <thead>\n",
       "    <tr style=\"text-align: right;\">\n",
       "      <th></th>\n",
       "      <th>age</th>\n",
       "      <th>job</th>\n",
       "      <th>marital</th>\n",
       "      <th>education</th>\n",
       "      <th>balance</th>\n",
       "      <th>duration</th>\n",
       "      <th>campaign</th>\n",
       "      <th>previous</th>\n",
       "      <th>poutcome</th>\n",
       "      <th>default_cat</th>\n",
       "      <th>housing_cat</th>\n",
       "      <th>loan_cat</th>\n",
       "      <th>deposit_cat</th>\n",
       "      <th>recent_pdays</th>\n",
       "    </tr>\n",
       "  </thead>\n",
       "  <tbody>\n",
       "    <tr>\n",
       "      <th>11157</th>\n",
       "      <td>33</td>\n",
       "      <td>blue-collar</td>\n",
       "      <td>single</td>\n",
       "      <td>primary</td>\n",
       "      <td>1</td>\n",
       "      <td>257</td>\n",
       "      <td>1</td>\n",
       "      <td>0</td>\n",
       "      <td>unknown</td>\n",
       "      <td>0</td>\n",
       "      <td>1</td>\n",
       "      <td>0</td>\n",
       "      <td>0</td>\n",
       "      <td>0.000100</td>\n",
       "    </tr>\n",
       "    <tr>\n",
       "      <th>11158</th>\n",
       "      <td>39</td>\n",
       "      <td>pink-collar</td>\n",
       "      <td>married</td>\n",
       "      <td>secondary</td>\n",
       "      <td>733</td>\n",
       "      <td>83</td>\n",
       "      <td>4</td>\n",
       "      <td>0</td>\n",
       "      <td>unknown</td>\n",
       "      <td>0</td>\n",
       "      <td>0</td>\n",
       "      <td>0</td>\n",
       "      <td>0</td>\n",
       "      <td>0.000100</td>\n",
       "    </tr>\n",
       "    <tr>\n",
       "      <th>11159</th>\n",
       "      <td>32</td>\n",
       "      <td>technician</td>\n",
       "      <td>single</td>\n",
       "      <td>secondary</td>\n",
       "      <td>29</td>\n",
       "      <td>156</td>\n",
       "      <td>2</td>\n",
       "      <td>0</td>\n",
       "      <td>unknown</td>\n",
       "      <td>0</td>\n",
       "      <td>0</td>\n",
       "      <td>0</td>\n",
       "      <td>0</td>\n",
       "      <td>0.000100</td>\n",
       "    </tr>\n",
       "    <tr>\n",
       "      <th>11160</th>\n",
       "      <td>43</td>\n",
       "      <td>technician</td>\n",
       "      <td>married</td>\n",
       "      <td>secondary</td>\n",
       "      <td>0</td>\n",
       "      <td>9</td>\n",
       "      <td>2</td>\n",
       "      <td>5</td>\n",
       "      <td>failure</td>\n",
       "      <td>0</td>\n",
       "      <td>0</td>\n",
       "      <td>1</td>\n",
       "      <td>0</td>\n",
       "      <td>0.005814</td>\n",
       "    </tr>\n",
       "    <tr>\n",
       "      <th>11161</th>\n",
       "      <td>34</td>\n",
       "      <td>technician</td>\n",
       "      <td>married</td>\n",
       "      <td>secondary</td>\n",
       "      <td>0</td>\n",
       "      <td>628</td>\n",
       "      <td>1</td>\n",
       "      <td>0</td>\n",
       "      <td>unknown</td>\n",
       "      <td>0</td>\n",
       "      <td>0</td>\n",
       "      <td>0</td>\n",
       "      <td>0</td>\n",
       "      <td>0.000100</td>\n",
       "    </tr>\n",
       "  </tbody>\n",
       "</table>\n",
       "</div>"
      ],
      "text/plain": [
       "       age          job  marital  education  balance  duration  campaign  \\\n",
       "11157   33  blue-collar   single    primary        1       257         1   \n",
       "11158   39  pink-collar  married  secondary      733        83         4   \n",
       "11159   32   technician   single  secondary       29       156         2   \n",
       "11160   43   technician  married  secondary        0         9         2   \n",
       "11161   34   technician  married  secondary        0       628         1   \n",
       "\n",
       "       previous poutcome  default_cat  housing_cat  loan_cat  deposit_cat  \\\n",
       "11157         0  unknown            0            1         0            0   \n",
       "11158         0  unknown            0            0         0            0   \n",
       "11159         0  unknown            0            0         0            0   \n",
       "11160         5  failure            0            0         1            0   \n",
       "11161         0  unknown            0            0         0            0   \n",
       "\n",
       "       recent_pdays  \n",
       "11157      0.000100  \n",
       "11158      0.000100  \n",
       "11159      0.000100  \n",
       "11160      0.005814  \n",
       "11161      0.000100  "
      ]
     },
     "execution_count": 47,
     "metadata": {},
     "output_type": "execute_result"
    }
   ],
   "source": [
    "bank_data.tail()"
   ]
  },
  {
   "cell_type": "markdown",
   "metadata": {
    "_cell_guid": "675e8d8f-2e23-4976-a7e9-fdb0d4983393",
    "_uuid": "6c0309015c140816d4fc83ce6af0d47daa6ac0f0"
   },
   "source": [
    "### ------------------------------ Convert to dummy values ------------------------------"
   ]
  },
  {
   "cell_type": "code",
   "execution_count": 48,
   "metadata": {
    "_cell_guid": "65a1ee10-aa81-4e44-b159-88f426ad0ae3",
    "_uuid": "63ac123483934cbc0e3703950e9cd7860184e985"
   },
   "outputs": [
    {
     "data": {
      "text/html": [
       "<div>\n",
       "<style scoped>\n",
       "    .dataframe tbody tr th:only-of-type {\n",
       "        vertical-align: middle;\n",
       "    }\n",
       "\n",
       "    .dataframe tbody tr th {\n",
       "        vertical-align: top;\n",
       "    }\n",
       "\n",
       "    .dataframe thead th {\n",
       "        text-align: right;\n",
       "    }\n",
       "</style>\n",
       "<table border=\"1\" class=\"dataframe\">\n",
       "  <thead>\n",
       "    <tr style=\"text-align: right;\">\n",
       "      <th></th>\n",
       "      <th>age</th>\n",
       "      <th>balance</th>\n",
       "      <th>duration</th>\n",
       "      <th>campaign</th>\n",
       "      <th>previous</th>\n",
       "      <th>default_cat</th>\n",
       "      <th>housing_cat</th>\n",
       "      <th>loan_cat</th>\n",
       "      <th>deposit_cat</th>\n",
       "      <th>recent_pdays</th>\n",
       "      <th>...</th>\n",
       "      <th>marital_divorced</th>\n",
       "      <th>marital_married</th>\n",
       "      <th>marital_single</th>\n",
       "      <th>education_primary</th>\n",
       "      <th>education_secondary</th>\n",
       "      <th>education_tertiary</th>\n",
       "      <th>education_unknown</th>\n",
       "      <th>poutcome_failure</th>\n",
       "      <th>poutcome_success</th>\n",
       "      <th>poutcome_unknown</th>\n",
       "    </tr>\n",
       "  </thead>\n",
       "  <tbody>\n",
       "    <tr>\n",
       "      <th>0</th>\n",
       "      <td>59</td>\n",
       "      <td>2343</td>\n",
       "      <td>1042</td>\n",
       "      <td>1</td>\n",
       "      <td>0</td>\n",
       "      <td>0</td>\n",
       "      <td>1</td>\n",
       "      <td>0</td>\n",
       "      <td>1</td>\n",
       "      <td>0.0001</td>\n",
       "      <td>...</td>\n",
       "      <td>0</td>\n",
       "      <td>1</td>\n",
       "      <td>0</td>\n",
       "      <td>0</td>\n",
       "      <td>1</td>\n",
       "      <td>0</td>\n",
       "      <td>0</td>\n",
       "      <td>0</td>\n",
       "      <td>0</td>\n",
       "      <td>1</td>\n",
       "    </tr>\n",
       "    <tr>\n",
       "      <th>1</th>\n",
       "      <td>56</td>\n",
       "      <td>45</td>\n",
       "      <td>1467</td>\n",
       "      <td>1</td>\n",
       "      <td>0</td>\n",
       "      <td>0</td>\n",
       "      <td>0</td>\n",
       "      <td>0</td>\n",
       "      <td>1</td>\n",
       "      <td>0.0001</td>\n",
       "      <td>...</td>\n",
       "      <td>0</td>\n",
       "      <td>1</td>\n",
       "      <td>0</td>\n",
       "      <td>0</td>\n",
       "      <td>1</td>\n",
       "      <td>0</td>\n",
       "      <td>0</td>\n",
       "      <td>0</td>\n",
       "      <td>0</td>\n",
       "      <td>1</td>\n",
       "    </tr>\n",
       "    <tr>\n",
       "      <th>2</th>\n",
       "      <td>41</td>\n",
       "      <td>1270</td>\n",
       "      <td>1389</td>\n",
       "      <td>1</td>\n",
       "      <td>0</td>\n",
       "      <td>0</td>\n",
       "      <td>1</td>\n",
       "      <td>0</td>\n",
       "      <td>1</td>\n",
       "      <td>0.0001</td>\n",
       "      <td>...</td>\n",
       "      <td>0</td>\n",
       "      <td>1</td>\n",
       "      <td>0</td>\n",
       "      <td>0</td>\n",
       "      <td>1</td>\n",
       "      <td>0</td>\n",
       "      <td>0</td>\n",
       "      <td>0</td>\n",
       "      <td>0</td>\n",
       "      <td>1</td>\n",
       "    </tr>\n",
       "    <tr>\n",
       "      <th>3</th>\n",
       "      <td>55</td>\n",
       "      <td>2476</td>\n",
       "      <td>579</td>\n",
       "      <td>1</td>\n",
       "      <td>0</td>\n",
       "      <td>0</td>\n",
       "      <td>1</td>\n",
       "      <td>0</td>\n",
       "      <td>1</td>\n",
       "      <td>0.0001</td>\n",
       "      <td>...</td>\n",
       "      <td>0</td>\n",
       "      <td>1</td>\n",
       "      <td>0</td>\n",
       "      <td>0</td>\n",
       "      <td>1</td>\n",
       "      <td>0</td>\n",
       "      <td>0</td>\n",
       "      <td>0</td>\n",
       "      <td>0</td>\n",
       "      <td>1</td>\n",
       "    </tr>\n",
       "    <tr>\n",
       "      <th>4</th>\n",
       "      <td>54</td>\n",
       "      <td>184</td>\n",
       "      <td>673</td>\n",
       "      <td>2</td>\n",
       "      <td>0</td>\n",
       "      <td>0</td>\n",
       "      <td>0</td>\n",
       "      <td>0</td>\n",
       "      <td>1</td>\n",
       "      <td>0.0001</td>\n",
       "      <td>...</td>\n",
       "      <td>0</td>\n",
       "      <td>1</td>\n",
       "      <td>0</td>\n",
       "      <td>0</td>\n",
       "      <td>0</td>\n",
       "      <td>1</td>\n",
       "      <td>0</td>\n",
       "      <td>0</td>\n",
       "      <td>0</td>\n",
       "      <td>1</td>\n",
       "    </tr>\n",
       "  </tbody>\n",
       "</table>\n",
       "<p>5 rows × 27 columns</p>\n",
       "</div>"
      ],
      "text/plain": [
       "   age  balance  duration  campaign  previous  default_cat  housing_cat  \\\n",
       "0   59     2343      1042         1         0            0            1   \n",
       "1   56       45      1467         1         0            0            0   \n",
       "2   41     1270      1389         1         0            0            1   \n",
       "3   55     2476       579         1         0            0            1   \n",
       "4   54      184       673         2         0            0            0   \n",
       "\n",
       "   loan_cat  deposit_cat  recent_pdays  ...  marital_divorced  \\\n",
       "0         0            1        0.0001  ...                 0   \n",
       "1         0            1        0.0001  ...                 0   \n",
       "2         0            1        0.0001  ...                 0   \n",
       "3         0            1        0.0001  ...                 0   \n",
       "4         0            1        0.0001  ...                 0   \n",
       "\n",
       "   marital_married  marital_single  education_primary  education_secondary  \\\n",
       "0                1               0                  0                    1   \n",
       "1                1               0                  0                    1   \n",
       "2                1               0                  0                    1   \n",
       "3                1               0                  0                    1   \n",
       "4                1               0                  0                    0   \n",
       "\n",
       "   education_tertiary  education_unknown  poutcome_failure  poutcome_success  \\\n",
       "0                   0                  0                 0                 0   \n",
       "1                   0                  0                 0                 0   \n",
       "2                   0                  0                 0                 0   \n",
       "3                   0                  0                 0                 0   \n",
       "4                   1                  0                 0                 0   \n",
       "\n",
       "   poutcome_unknown  \n",
       "0                 1  \n",
       "1                 1  \n",
       "2                 1  \n",
       "3                 1  \n",
       "4                 1  \n",
       "\n",
       "[5 rows x 27 columns]"
      ]
     },
     "execution_count": 48,
     "metadata": {},
     "output_type": "execute_result"
    }
   ],
   "source": [
    "# Convert categorical variables to dummies\n",
    "bank_with_dummies = pd.get_dummies(data=bank_data, columns = ['job', 'marital', 'education', 'poutcome'], \\\n",
    "                                   prefix = ['job', 'marital', 'education', 'poutcome'])\n",
    "bank_with_dummies.head()"
   ]
  },
  {
   "cell_type": "code",
   "execution_count": 49,
   "metadata": {
    "_cell_guid": "dc46d20e-db1f-41cc-a0c4-bea3f800235e",
    "_uuid": "5fae26f3d9d4c343d75d90163ebb54f64c4d798e"
   },
   "outputs": [
    {
     "data": {
      "text/plain": [
       "(11162, 27)"
      ]
     },
     "execution_count": 49,
     "metadata": {},
     "output_type": "execute_result"
    }
   ],
   "source": [
    "bank_with_dummies.shape"
   ]
  },
  {
   "cell_type": "code",
   "execution_count": 50,
   "metadata": {
    "_cell_guid": "8daac786-1fcd-4dd5-b789-8dbb96011c44",
    "_uuid": "b9018d84ec2eae5368860f237e47e00473deeb05"
   },
   "outputs": [
    {
     "data": {
      "text/html": [
       "<div>\n",
       "<style scoped>\n",
       "    .dataframe tbody tr th:only-of-type {\n",
       "        vertical-align: middle;\n",
       "    }\n",
       "\n",
       "    .dataframe tbody tr th {\n",
       "        vertical-align: top;\n",
       "    }\n",
       "\n",
       "    .dataframe thead th {\n",
       "        text-align: right;\n",
       "    }\n",
       "</style>\n",
       "<table border=\"1\" class=\"dataframe\">\n",
       "  <thead>\n",
       "    <tr style=\"text-align: right;\">\n",
       "      <th></th>\n",
       "      <th>age</th>\n",
       "      <th>balance</th>\n",
       "      <th>duration</th>\n",
       "      <th>campaign</th>\n",
       "      <th>previous</th>\n",
       "      <th>default_cat</th>\n",
       "      <th>housing_cat</th>\n",
       "      <th>loan_cat</th>\n",
       "      <th>deposit_cat</th>\n",
       "      <th>recent_pdays</th>\n",
       "      <th>...</th>\n",
       "      <th>marital_divorced</th>\n",
       "      <th>marital_married</th>\n",
       "      <th>marital_single</th>\n",
       "      <th>education_primary</th>\n",
       "      <th>education_secondary</th>\n",
       "      <th>education_tertiary</th>\n",
       "      <th>education_unknown</th>\n",
       "      <th>poutcome_failure</th>\n",
       "      <th>poutcome_success</th>\n",
       "      <th>poutcome_unknown</th>\n",
       "    </tr>\n",
       "  </thead>\n",
       "  <tbody>\n",
       "    <tr>\n",
       "      <th>count</th>\n",
       "      <td>11162.000000</td>\n",
       "      <td>11162.000000</td>\n",
       "      <td>11162.000000</td>\n",
       "      <td>11162.000000</td>\n",
       "      <td>11162.000000</td>\n",
       "      <td>11162.000000</td>\n",
       "      <td>11162.000000</td>\n",
       "      <td>11162.000000</td>\n",
       "      <td>11162.000000</td>\n",
       "      <td>11162.000000</td>\n",
       "      <td>...</td>\n",
       "      <td>11162.000000</td>\n",
       "      <td>11162.000000</td>\n",
       "      <td>11162.000000</td>\n",
       "      <td>11162.000000</td>\n",
       "      <td>11162.000000</td>\n",
       "      <td>11162.000000</td>\n",
       "      <td>11162.000000</td>\n",
       "      <td>11162.000000</td>\n",
       "      <td>11162.000000</td>\n",
       "      <td>11162.000000</td>\n",
       "    </tr>\n",
       "    <tr>\n",
       "      <th>mean</th>\n",
       "      <td>41.231948</td>\n",
       "      <td>1528.538524</td>\n",
       "      <td>371.993818</td>\n",
       "      <td>2.508421</td>\n",
       "      <td>0.832557</td>\n",
       "      <td>0.015051</td>\n",
       "      <td>0.473123</td>\n",
       "      <td>0.130801</td>\n",
       "      <td>0.473840</td>\n",
       "      <td>0.003124</td>\n",
       "      <td>...</td>\n",
       "      <td>0.115839</td>\n",
       "      <td>0.568984</td>\n",
       "      <td>0.315176</td>\n",
       "      <td>0.134385</td>\n",
       "      <td>0.490593</td>\n",
       "      <td>0.330496</td>\n",
       "      <td>0.044526</td>\n",
       "      <td>0.110016</td>\n",
       "      <td>0.095951</td>\n",
       "      <td>0.794033</td>\n",
       "    </tr>\n",
       "    <tr>\n",
       "      <th>std</th>\n",
       "      <td>11.913369</td>\n",
       "      <td>3225.413326</td>\n",
       "      <td>347.128386</td>\n",
       "      <td>2.722077</td>\n",
       "      <td>2.292007</td>\n",
       "      <td>0.121761</td>\n",
       "      <td>0.499299</td>\n",
       "      <td>0.337198</td>\n",
       "      <td>0.499338</td>\n",
       "      <td>0.030686</td>\n",
       "      <td>...</td>\n",
       "      <td>0.320047</td>\n",
       "      <td>0.495241</td>\n",
       "      <td>0.464607</td>\n",
       "      <td>0.341080</td>\n",
       "      <td>0.499934</td>\n",
       "      <td>0.470413</td>\n",
       "      <td>0.206270</td>\n",
       "      <td>0.312924</td>\n",
       "      <td>0.294537</td>\n",
       "      <td>0.404424</td>\n",
       "    </tr>\n",
       "    <tr>\n",
       "      <th>min</th>\n",
       "      <td>18.000000</td>\n",
       "      <td>-6847.000000</td>\n",
       "      <td>2.000000</td>\n",
       "      <td>1.000000</td>\n",
       "      <td>0.000000</td>\n",
       "      <td>0.000000</td>\n",
       "      <td>0.000000</td>\n",
       "      <td>0.000000</td>\n",
       "      <td>0.000000</td>\n",
       "      <td>0.000100</td>\n",
       "      <td>...</td>\n",
       "      <td>0.000000</td>\n",
       "      <td>0.000000</td>\n",
       "      <td>0.000000</td>\n",
       "      <td>0.000000</td>\n",
       "      <td>0.000000</td>\n",
       "      <td>0.000000</td>\n",
       "      <td>0.000000</td>\n",
       "      <td>0.000000</td>\n",
       "      <td>0.000000</td>\n",
       "      <td>0.000000</td>\n",
       "    </tr>\n",
       "    <tr>\n",
       "      <th>25%</th>\n",
       "      <td>32.000000</td>\n",
       "      <td>122.000000</td>\n",
       "      <td>138.000000</td>\n",
       "      <td>1.000000</td>\n",
       "      <td>0.000000</td>\n",
       "      <td>0.000000</td>\n",
       "      <td>0.000000</td>\n",
       "      <td>0.000000</td>\n",
       "      <td>0.000000</td>\n",
       "      <td>0.000100</td>\n",
       "      <td>...</td>\n",
       "      <td>0.000000</td>\n",
       "      <td>0.000000</td>\n",
       "      <td>0.000000</td>\n",
       "      <td>0.000000</td>\n",
       "      <td>0.000000</td>\n",
       "      <td>0.000000</td>\n",
       "      <td>0.000000</td>\n",
       "      <td>0.000000</td>\n",
       "      <td>0.000000</td>\n",
       "      <td>1.000000</td>\n",
       "    </tr>\n",
       "    <tr>\n",
       "      <th>50%</th>\n",
       "      <td>39.000000</td>\n",
       "      <td>550.000000</td>\n",
       "      <td>255.000000</td>\n",
       "      <td>2.000000</td>\n",
       "      <td>0.000000</td>\n",
       "      <td>0.000000</td>\n",
       "      <td>0.000000</td>\n",
       "      <td>0.000000</td>\n",
       "      <td>0.000000</td>\n",
       "      <td>0.000100</td>\n",
       "      <td>...</td>\n",
       "      <td>0.000000</td>\n",
       "      <td>1.000000</td>\n",
       "      <td>0.000000</td>\n",
       "      <td>0.000000</td>\n",
       "      <td>0.000000</td>\n",
       "      <td>0.000000</td>\n",
       "      <td>0.000000</td>\n",
       "      <td>0.000000</td>\n",
       "      <td>0.000000</td>\n",
       "      <td>1.000000</td>\n",
       "    </tr>\n",
       "    <tr>\n",
       "      <th>75%</th>\n",
       "      <td>49.000000</td>\n",
       "      <td>1708.000000</td>\n",
       "      <td>496.000000</td>\n",
       "      <td>3.000000</td>\n",
       "      <td>1.000000</td>\n",
       "      <td>0.000000</td>\n",
       "      <td>1.000000</td>\n",
       "      <td>0.000000</td>\n",
       "      <td>1.000000</td>\n",
       "      <td>0.001919</td>\n",
       "      <td>...</td>\n",
       "      <td>0.000000</td>\n",
       "      <td>1.000000</td>\n",
       "      <td>1.000000</td>\n",
       "      <td>0.000000</td>\n",
       "      <td>1.000000</td>\n",
       "      <td>1.000000</td>\n",
       "      <td>0.000000</td>\n",
       "      <td>0.000000</td>\n",
       "      <td>0.000000</td>\n",
       "      <td>1.000000</td>\n",
       "    </tr>\n",
       "    <tr>\n",
       "      <th>max</th>\n",
       "      <td>95.000000</td>\n",
       "      <td>81204.000000</td>\n",
       "      <td>3881.000000</td>\n",
       "      <td>63.000000</td>\n",
       "      <td>58.000000</td>\n",
       "      <td>1.000000</td>\n",
       "      <td>1.000000</td>\n",
       "      <td>1.000000</td>\n",
       "      <td>1.000000</td>\n",
       "      <td>1.000000</td>\n",
       "      <td>...</td>\n",
       "      <td>1.000000</td>\n",
       "      <td>1.000000</td>\n",
       "      <td>1.000000</td>\n",
       "      <td>1.000000</td>\n",
       "      <td>1.000000</td>\n",
       "      <td>1.000000</td>\n",
       "      <td>1.000000</td>\n",
       "      <td>1.000000</td>\n",
       "      <td>1.000000</td>\n",
       "      <td>1.000000</td>\n",
       "    </tr>\n",
       "  </tbody>\n",
       "</table>\n",
       "<p>8 rows × 27 columns</p>\n",
       "</div>"
      ],
      "text/plain": [
       "                age       balance      duration      campaign      previous  \\\n",
       "count  11162.000000  11162.000000  11162.000000  11162.000000  11162.000000   \n",
       "mean      41.231948   1528.538524    371.993818      2.508421      0.832557   \n",
       "std       11.913369   3225.413326    347.128386      2.722077      2.292007   \n",
       "min       18.000000  -6847.000000      2.000000      1.000000      0.000000   \n",
       "25%       32.000000    122.000000    138.000000      1.000000      0.000000   \n",
       "50%       39.000000    550.000000    255.000000      2.000000      0.000000   \n",
       "75%       49.000000   1708.000000    496.000000      3.000000      1.000000   \n",
       "max       95.000000  81204.000000   3881.000000     63.000000     58.000000   \n",
       "\n",
       "        default_cat   housing_cat      loan_cat   deposit_cat  recent_pdays  \\\n",
       "count  11162.000000  11162.000000  11162.000000  11162.000000  11162.000000   \n",
       "mean       0.015051      0.473123      0.130801      0.473840      0.003124   \n",
       "std        0.121761      0.499299      0.337198      0.499338      0.030686   \n",
       "min        0.000000      0.000000      0.000000      0.000000      0.000100   \n",
       "25%        0.000000      0.000000      0.000000      0.000000      0.000100   \n",
       "50%        0.000000      0.000000      0.000000      0.000000      0.000100   \n",
       "75%        0.000000      1.000000      0.000000      1.000000      0.001919   \n",
       "max        1.000000      1.000000      1.000000      1.000000      1.000000   \n",
       "\n",
       "       ...  marital_divorced  marital_married  marital_single  \\\n",
       "count  ...      11162.000000     11162.000000    11162.000000   \n",
       "mean   ...          0.115839         0.568984        0.315176   \n",
       "std    ...          0.320047         0.495241        0.464607   \n",
       "min    ...          0.000000         0.000000        0.000000   \n",
       "25%    ...          0.000000         0.000000        0.000000   \n",
       "50%    ...          0.000000         1.000000        0.000000   \n",
       "75%    ...          0.000000         1.000000        1.000000   \n",
       "max    ...          1.000000         1.000000        1.000000   \n",
       "\n",
       "       education_primary  education_secondary  education_tertiary  \\\n",
       "count       11162.000000         11162.000000        11162.000000   \n",
       "mean            0.134385             0.490593            0.330496   \n",
       "std             0.341080             0.499934            0.470413   \n",
       "min             0.000000             0.000000            0.000000   \n",
       "25%             0.000000             0.000000            0.000000   \n",
       "50%             0.000000             0.000000            0.000000   \n",
       "75%             0.000000             1.000000            1.000000   \n",
       "max             1.000000             1.000000            1.000000   \n",
       "\n",
       "       education_unknown  poutcome_failure  poutcome_success  poutcome_unknown  \n",
       "count       11162.000000      11162.000000      11162.000000      11162.000000  \n",
       "mean            0.044526          0.110016          0.095951          0.794033  \n",
       "std             0.206270          0.312924          0.294537          0.404424  \n",
       "min             0.000000          0.000000          0.000000          0.000000  \n",
       "25%             0.000000          0.000000          0.000000          1.000000  \n",
       "50%             0.000000          0.000000          0.000000          1.000000  \n",
       "75%             0.000000          0.000000          0.000000          1.000000  \n",
       "max             1.000000          1.000000          1.000000          1.000000  \n",
       "\n",
       "[8 rows x 27 columns]"
      ]
     },
     "execution_count": 50,
     "metadata": {},
     "output_type": "execute_result"
    }
   ],
   "source": [
    "bank_with_dummies.describe()"
   ]
  },
  {
   "cell_type": "markdown",
   "metadata": {
    "_cell_guid": "e1cc517d-cc97-4eee-a258-8c554ed95332",
    "_uuid": "beef0817aff3dbd8c920a4cd91bc6e56f00ecd5a"
   },
   "source": [
    "### Observations on whole population"
   ]
  },
  {
   "cell_type": "code",
   "execution_count": 51,
   "metadata": {
    "_cell_guid": "e49e7895-a6ac-4b92-9536-f341621d4604",
    "_uuid": "3ace943aed1952f64db8239a3e3a5ebdb39dfdc3"
   },
   "outputs": [
    {
     "data": {
      "image/png": "[encoded data removed]",
      "text/plain": [
       "<Figure size 432x288 with 1 Axes>"
      ]
     },
     "metadata": {
      "needs_background": "light"
     },
     "output_type": "display_data"
    }
   ],
   "source": [
    "# Scatterplot showing age and balance\n",
    "bank_with_dummies.plot(kind='scatter', x='age', y='balance');\n",
    "\n",
    "# Across all ages, majority of people have savings of less than 20000."
   ]
  },
  {
   "cell_type": "code",
   "execution_count": 52,
   "metadata": {
    "_cell_guid": "4aec6766-7948-4e5d-ad01-3d09cef30708",
    "_uuid": "58071dc03f232e6fd860638e434390b1002e2299"
   },
   "outputs": [
    {
     "data": {
      "image/png": "[encoded data removed]",
      "text/plain": [
       "<Figure size 432x288 with 1 Axes>"
      ]
     },
     "metadata": {
      "needs_background": "light"
     },
     "output_type": "display_data"
    }
   ],
   "source": [
    "bank_with_dummies.plot(kind='hist', x='poutcome_success', y='duration');"
   ]
  },
  {
   "cell_type": "markdown",
   "metadata": {
    "_cell_guid": "46f48fc7-340c-48bb-8f52-7f9a43d03430",
    "_uuid": "f5bccfdf19b6efdaccf2663c114f85ab910fa4a4"
   },
   "source": [
    "#### Analysis on people who sign up for a term deposite"
   ]
  },
  {
   "cell_type": "code",
   "execution_count": 53,
   "metadata": {
    "_cell_guid": "52d4b887-1b35-434d-adf2-243edd1b3347",
    "_uuid": "0be3fa7ed1542d993bb5c8bc36b36d6ed7ca8092"
   },
   "outputs": [
    {
     "data": {
      "text/html": [
       "<div>\n",
       "<style scoped>\n",
       "    .dataframe tbody tr th:only-of-type {\n",
       "        vertical-align: middle;\n",
       "    }\n",
       "\n",
       "    .dataframe tbody tr th {\n",
       "        vertical-align: top;\n",
       "    }\n",
       "\n",
       "    .dataframe thead th {\n",
       "        text-align: right;\n",
       "    }\n",
       "</style>\n",
       "<table border=\"1\" class=\"dataframe\">\n",
       "  <thead>\n",
       "    <tr style=\"text-align: right;\">\n",
       "      <th></th>\n",
       "      <th>age</th>\n",
       "      <th>balance</th>\n",
       "      <th>duration</th>\n",
       "      <th>campaign</th>\n",
       "      <th>previous</th>\n",
       "      <th>default_cat</th>\n",
       "      <th>housing_cat</th>\n",
       "      <th>loan_cat</th>\n",
       "      <th>deposit_cat</th>\n",
       "      <th>recent_pdays</th>\n",
       "      <th>...</th>\n",
       "      <th>marital_divorced</th>\n",
       "      <th>marital_married</th>\n",
       "      <th>marital_single</th>\n",
       "      <th>education_primary</th>\n",
       "      <th>education_secondary</th>\n",
       "      <th>education_tertiary</th>\n",
       "      <th>education_unknown</th>\n",
       "      <th>poutcome_failure</th>\n",
       "      <th>poutcome_success</th>\n",
       "      <th>poutcome_unknown</th>\n",
       "    </tr>\n",
       "  </thead>\n",
       "  <tbody>\n",
       "    <tr>\n",
       "      <th>count</th>\n",
       "      <td>5289.000000</td>\n",
       "      <td>5289.000000</td>\n",
       "      <td>5289.000000</td>\n",
       "      <td>5289.000000</td>\n",
       "      <td>5289.000000</td>\n",
       "      <td>5289.000000</td>\n",
       "      <td>5289.000000</td>\n",
       "      <td>5289.000000</td>\n",
       "      <td>5289.0</td>\n",
       "      <td>5289.000000</td>\n",
       "      <td>...</td>\n",
       "      <td>5289.000000</td>\n",
       "      <td>5289.000000</td>\n",
       "      <td>5289.000000</td>\n",
       "      <td>5289.000000</td>\n",
       "      <td>5289.000000</td>\n",
       "      <td>5289.000000</td>\n",
       "      <td>5289.000000</td>\n",
       "      <td>5289.000000</td>\n",
       "      <td>5289.000000</td>\n",
       "      <td>5289.000000</td>\n",
       "    </tr>\n",
       "    <tr>\n",
       "      <th>mean</th>\n",
       "      <td>41.670070</td>\n",
       "      <td>1804.267915</td>\n",
       "      <td>537.294574</td>\n",
       "      <td>2.141047</td>\n",
       "      <td>1.170354</td>\n",
       "      <td>0.009832</td>\n",
       "      <td>0.365854</td>\n",
       "      <td>0.091511</td>\n",
       "      <td>1.0</td>\n",
       "      <td>0.004238</td>\n",
       "      <td>...</td>\n",
       "      <td>0.117603</td>\n",
       "      <td>0.520892</td>\n",
       "      <td>0.361505</td>\n",
       "      <td>0.111741</td>\n",
       "      <td>0.463226</td>\n",
       "      <td>0.377387</td>\n",
       "      <td>0.047646</td>\n",
       "      <td>0.116846</td>\n",
       "      <td>0.184912</td>\n",
       "      <td>0.698242</td>\n",
       "    </tr>\n",
       "    <tr>\n",
       "      <th>std</th>\n",
       "      <td>13.497781</td>\n",
       "      <td>3501.104777</td>\n",
       "      <td>392.525262</td>\n",
       "      <td>1.921826</td>\n",
       "      <td>2.553272</td>\n",
       "      <td>0.098676</td>\n",
       "      <td>0.481714</td>\n",
       "      <td>0.288361</td>\n",
       "      <td>0.0</td>\n",
       "      <td>0.035686</td>\n",
       "      <td>...</td>\n",
       "      <td>0.322167</td>\n",
       "      <td>0.499611</td>\n",
       "      <td>0.480482</td>\n",
       "      <td>0.315078</td>\n",
       "      <td>0.498693</td>\n",
       "      <td>0.484779</td>\n",
       "      <td>0.213036</td>\n",
       "      <td>0.321267</td>\n",
       "      <td>0.388263</td>\n",
       "      <td>0.459064</td>\n",
       "    </tr>\n",
       "    <tr>\n",
       "      <th>min</th>\n",
       "      <td>18.000000</td>\n",
       "      <td>-3058.000000</td>\n",
       "      <td>8.000000</td>\n",
       "      <td>1.000000</td>\n",
       "      <td>0.000000</td>\n",
       "      <td>0.000000</td>\n",
       "      <td>0.000000</td>\n",
       "      <td>0.000000</td>\n",
       "      <td>1.0</td>\n",
       "      <td>0.000100</td>\n",
       "      <td>...</td>\n",
       "      <td>0.000000</td>\n",
       "      <td>0.000000</td>\n",
       "      <td>0.000000</td>\n",
       "      <td>0.000000</td>\n",
       "      <td>0.000000</td>\n",
       "      <td>0.000000</td>\n",
       "      <td>0.000000</td>\n",
       "      <td>0.000000</td>\n",
       "      <td>0.000000</td>\n",
       "      <td>0.000000</td>\n",
       "    </tr>\n",
       "    <tr>\n",
       "      <th>25%</th>\n",
       "      <td>31.000000</td>\n",
       "      <td>210.000000</td>\n",
       "      <td>244.000000</td>\n",
       "      <td>1.000000</td>\n",
       "      <td>0.000000</td>\n",
       "      <td>0.000000</td>\n",
       "      <td>0.000000</td>\n",
       "      <td>0.000000</td>\n",
       "      <td>1.0</td>\n",
       "      <td>0.000100</td>\n",
       "      <td>...</td>\n",
       "      <td>0.000000</td>\n",
       "      <td>0.000000</td>\n",
       "      <td>0.000000</td>\n",
       "      <td>0.000000</td>\n",
       "      <td>0.000000</td>\n",
       "      <td>0.000000</td>\n",
       "      <td>0.000000</td>\n",
       "      <td>0.000000</td>\n",
       "      <td>0.000000</td>\n",
       "      <td>0.000000</td>\n",
       "    </tr>\n",
       "    <tr>\n",
       "      <th>50%</th>\n",
       "      <td>38.000000</td>\n",
       "      <td>733.000000</td>\n",
       "      <td>426.000000</td>\n",
       "      <td>2.000000</td>\n",
       "      <td>0.000000</td>\n",
       "      <td>0.000000</td>\n",
       "      <td>0.000000</td>\n",
       "      <td>0.000000</td>\n",
       "      <td>1.0</td>\n",
       "      <td>0.000100</td>\n",
       "      <td>...</td>\n",
       "      <td>0.000000</td>\n",
       "      <td>1.000000</td>\n",
       "      <td>0.000000</td>\n",
       "      <td>0.000000</td>\n",
       "      <td>0.000000</td>\n",
       "      <td>0.000000</td>\n",
       "      <td>0.000000</td>\n",
       "      <td>0.000000</td>\n",
       "      <td>0.000000</td>\n",
       "      <td>1.000000</td>\n",
       "    </tr>\n",
       "    <tr>\n",
       "      <th>75%</th>\n",
       "      <td>50.000000</td>\n",
       "      <td>2159.000000</td>\n",
       "      <td>725.000000</td>\n",
       "      <td>3.000000</td>\n",
       "      <td>1.000000</td>\n",
       "      <td>0.000000</td>\n",
       "      <td>1.000000</td>\n",
       "      <td>0.000000</td>\n",
       "      <td>1.0</td>\n",
       "      <td>0.005128</td>\n",
       "      <td>...</td>\n",
       "      <td>0.000000</td>\n",
       "      <td>1.000000</td>\n",
       "      <td>1.000000</td>\n",
       "      <td>0.000000</td>\n",
       "      <td>1.000000</td>\n",
       "      <td>1.000000</td>\n",
       "      <td>0.000000</td>\n",
       "      <td>0.000000</td>\n",
       "      <td>0.000000</td>\n",
       "      <td>1.000000</td>\n",
       "    </tr>\n",
       "    <tr>\n",
       "      <th>max</th>\n",
       "      <td>95.000000</td>\n",
       "      <td>81204.000000</td>\n",
       "      <td>3881.000000</td>\n",
       "      <td>32.000000</td>\n",
       "      <td>58.000000</td>\n",
       "      <td>1.000000</td>\n",
       "      <td>1.000000</td>\n",
       "      <td>1.000000</td>\n",
       "      <td>1.0</td>\n",
       "      <td>1.000000</td>\n",
       "      <td>...</td>\n",
       "      <td>1.000000</td>\n",
       "      <td>1.000000</td>\n",
       "      <td>1.000000</td>\n",
       "      <td>1.000000</td>\n",
       "      <td>1.000000</td>\n",
       "      <td>1.000000</td>\n",
       "      <td>1.000000</td>\n",
       "      <td>1.000000</td>\n",
       "      <td>1.000000</td>\n",
       "      <td>1.000000</td>\n",
       "    </tr>\n",
       "  </tbody>\n",
       "</table>\n",
       "<p>8 rows × 27 columns</p>\n",
       "</div>"
      ],
      "text/plain": [
       "               age       balance     duration     campaign     previous  \\\n",
       "count  5289.000000   5289.000000  5289.000000  5289.000000  5289.000000   \n",
       "mean     41.670070   1804.267915   537.294574     2.141047     1.170354   \n",
       "std      13.497781   3501.104777   392.525262     1.921826     2.553272   \n",
       "min      18.000000  -3058.000000     8.000000     1.000000     0.000000   \n",
       "25%      31.000000    210.000000   244.000000     1.000000     0.000000   \n",
       "50%      38.000000    733.000000   426.000000     2.000000     0.000000   \n",
       "75%      50.000000   2159.000000   725.000000     3.000000     1.000000   \n",
       "max      95.000000  81204.000000  3881.000000    32.000000    58.000000   \n",
       "\n",
       "       default_cat  housing_cat     loan_cat  deposit_cat  recent_pdays  ...  \\\n",
       "count  5289.000000  5289.000000  5289.000000       5289.0   5289.000000  ...   \n",
       "mean      0.009832     0.365854     0.091511          1.0      0.004238  ...   \n",
       "std       0.098676     0.481714     0.288361          0.0      0.035686  ...   \n",
       "min       0.000000     0.000000     0.000000          1.0      0.000100  ...   \n",
       "25%       0.000000     0.000000     0.000000          1.0      0.000100  ...   \n",
       "50%       0.000000     0.000000     0.000000          1.0      0.000100  ...   \n",
       "75%       0.000000     1.000000     0.000000          1.0      0.005128  ...   \n",
       "max       1.000000     1.000000     1.000000          1.0      1.000000  ...   \n",
       "\n",
       "       marital_divorced  marital_married  marital_single  education_primary  \\\n",
       "count       5289.000000      5289.000000     5289.000000        5289.000000   \n",
       "mean           0.117603         0.520892        0.361505           0.111741   \n",
       "std            0.322167         0.499611        0.480482           0.315078   \n",
       "min            0.000000         0.000000        0.000000           0.000000   \n",
       "25%            0.000000         0.000000        0.000000           0.000000   \n",
       "50%            0.000000         1.000000        0.000000           0.000000   \n",
       "75%            0.000000         1.000000        1.000000           0.000000   \n",
       "max            1.000000         1.000000        1.000000           1.000000   \n",
       "\n",
       "       education_secondary  education_tertiary  education_unknown  \\\n",
       "count          5289.000000         5289.000000        5289.000000   \n",
       "mean              0.463226            0.377387           0.047646   \n",
       "std               0.498693            0.484779           0.213036   \n",
       "min               0.000000            0.000000           0.000000   \n",
       "25%               0.000000            0.000000           0.000000   \n",
       "50%               0.000000            0.000000           0.000000   \n",
       "75%               1.000000            1.000000           0.000000   \n",
       "max               1.000000            1.000000           1.000000   \n",
       "\n",
       "       poutcome_failure  poutcome_success  poutcome_unknown  \n",
       "count       5289.000000       5289.000000       5289.000000  \n",
       "mean           0.116846          0.184912          0.698242  \n",
       "std            0.321267          0.388263          0.459064  \n",
       "min            0.000000          0.000000          0.000000  \n",
       "25%            0.000000          0.000000          0.000000  \n",
       "50%            0.000000          0.000000          1.000000  \n",
       "75%            0.000000          0.000000          1.000000  \n",
       "max            1.000000          1.000000          1.000000  \n",
       "\n",
       "[8 rows x 27 columns]"
      ]
     },
     "execution_count": 53,
     "metadata": {},
     "output_type": "execute_result"
    }
   ],
   "source": [
    "# People who sign up to a term deposite\n",
    "bank_with_dummies[bank_data.deposit_cat == 1].describe()"
   ]
  },
  {
   "cell_type": "code",
   "execution_count": 54,
   "metadata": {
    "_cell_guid": "25c8616f-805c-4abf-b792-4b2e8f39cfcf",
    "_uuid": "3d999f6b3775dcc7b25993fcd6ccad1838d8a239"
   },
   "outputs": [
    {
     "data": {
      "text/plain": [
       "265"
      ]
     },
     "execution_count": 54,
     "metadata": {},
     "output_type": "execute_result"
    }
   ],
   "source": [
    "# People signed up to a term deposite having a personal loan (loan_cat) and housing loan (housing_cat)\n",
    "len(bank_with_dummies[(bank_with_dummies.deposit_cat == 1) & (bank_with_dummies.loan_cat) & (bank_with_dummies.housing_cat)])"
   ]
  },
  {
   "cell_type": "code",
   "execution_count": 55,
   "metadata": {
    "_cell_guid": "ecb235b0-9f6b-4a35-9a71-efd7525b4836",
    "_uuid": "33866e95d069281a68c5f0bcfaa272603e665390"
   },
   "outputs": [
    {
     "data": {
      "text/plain": [
       "52"
      ]
     },
     "execution_count": 55,
     "metadata": {},
     "output_type": "execute_result"
    }
   ],
   "source": [
    "# People signed up to a term deposite with a credit default \n",
    "len(bank_with_dummies[(bank_with_dummies.deposit_cat == 1) & (bank_with_dummies.default_cat ==1)])"
   ]
  },
  {
   "cell_type": "code",
   "execution_count": 56,
   "metadata": {
    "_cell_guid": "fae049f5-fa22-4db2-9e65-2b0088ed6c2c",
    "_uuid": "037a420ecb420ad6b97029219d36d4f9147d52a6"
   },
   "outputs": [
    {
     "data": {
      "text/plain": [
       "<AxesSubplot:xlabel='job', ylabel='deposit_cat'>"
      ]
     },
     "execution_count": 56,
     "metadata": {},
     "output_type": "execute_result"
    },
    {
     "data": {
      "image/png": "[encoded data removed]",
      "text/plain": [
       "<Figure size 720x432 with 1 Axes>"
      ]
     },
     "metadata": {
      "needs_background": "light"
     },
     "output_type": "display_data"
    }
   ],
   "source": [
    "# Bar chart of job Vs deposite\n",
    "plt.figure(figsize = (10,6))\n",
    "sns.barplot(x='job', y = 'deposit_cat', data = bank_data)"
   ]
  },
  {
   "cell_type": "code",
   "execution_count": 57,
   "metadata": {
    "_cell_guid": "1a35a8e5-3df3-470c-9bf1-71a476f587e6",
    "_uuid": "7f5cb673253553269fcb783d941d7b37499b9a3e"
   },
   "outputs": [
    {
     "data": {
      "text/plain": [
       "<AxesSubplot:xlabel='poutcome', ylabel='duration'>"
      ]
     },
     "execution_count": 57,
     "metadata": {},
     "output_type": "execute_result"
    },
    {
     "data": {
      "image/png": "[encoded data removed]",
      "text/plain": [
       "<Figure size 720x432 with 1 Axes>"
      ]
     },
     "metadata": {
      "needs_background": "light"
     },
     "output_type": "display_data"
    }
   ],
   "source": [
    "# Bar chart of \"previous outcome\" Vs \"call duration\"\n",
    "\n",
    "plt.figure(figsize = (10,6))\n",
    "sns.barplot(x='poutcome', y = 'duration', data = bank_data)"
   ]
  },
  {
   "cell_type": "markdown",
   "metadata": {
    "_cell_guid": "24492c44-5b2a-4878-9236-df9297680902",
    "_uuid": "d583dd9fbc7df31d950d78bcb62f2156a6c14ed3"
   },
   "source": [
    "> ## Classification"
   ]
  },
  {
   "cell_type": "code",
   "execution_count": 58,
   "metadata": {
    "_cell_guid": "9365fde6-e602-4996-a79a-2d7e4ec3bee2",
    "_uuid": "4482103b89dd40dbb5ac9bbafee6e85da23c27c3"
   },
   "outputs": [],
   "source": [
    "# make a copy\n",
    "bankcl = bank_with_dummies"
   ]
  },
  {
   "cell_type": "code",
   "execution_count": 59,
   "metadata": {
    "_cell_guid": "edf85d97-fec6-4f90-a3d0-02a1ec094a08",
    "_uuid": "ff08aff610ab1676acc902da63dc35ae1c321673"
   },
   "outputs": [
    {
     "data": {
      "text/html": [
       "<div>\n",
       "<style scoped>\n",
       "    .dataframe tbody tr th:only-of-type {\n",
       "        vertical-align: middle;\n",
       "    }\n",
       "\n",
       "    .dataframe tbody tr th {\n",
       "        vertical-align: top;\n",
       "    }\n",
       "\n",
       "    .dataframe thead th {\n",
       "        text-align: right;\n",
       "    }\n",
       "</style>\n",
       "<table border=\"1\" class=\"dataframe\">\n",
       "  <thead>\n",
       "    <tr style=\"text-align: right;\">\n",
       "      <th></th>\n",
       "      <th>age</th>\n",
       "      <th>balance</th>\n",
       "      <th>duration</th>\n",
       "      <th>campaign</th>\n",
       "      <th>previous</th>\n",
       "      <th>default_cat</th>\n",
       "      <th>housing_cat</th>\n",
       "      <th>loan_cat</th>\n",
       "      <th>deposit_cat</th>\n",
       "      <th>recent_pdays</th>\n",
       "      <th>...</th>\n",
       "      <th>marital_divorced</th>\n",
       "      <th>marital_married</th>\n",
       "      <th>marital_single</th>\n",
       "      <th>education_primary</th>\n",
       "      <th>education_secondary</th>\n",
       "      <th>education_tertiary</th>\n",
       "      <th>education_unknown</th>\n",
       "      <th>poutcome_failure</th>\n",
       "      <th>poutcome_success</th>\n",
       "      <th>poutcome_unknown</th>\n",
       "    </tr>\n",
       "  </thead>\n",
       "  <tbody>\n",
       "    <tr>\n",
       "      <th>age</th>\n",
       "      <td>1.000000</td>\n",
       "      <td>0.112300</td>\n",
       "      <td>0.000189</td>\n",
       "      <td>-0.005278</td>\n",
       "      <td>0.020169</td>\n",
       "      <td>-0.011425</td>\n",
       "      <td>-0.168700</td>\n",
       "      <td>-0.031418</td>\n",
       "      <td>0.034901</td>\n",
       "      <td>0.019102</td>\n",
       "      <td>...</td>\n",
       "      <td>0.186349</td>\n",
       "      <td>0.318436</td>\n",
       "      <td>-0.467799</td>\n",
       "      <td>0.231150</td>\n",
       "      <td>-0.094400</td>\n",
       "      <td>-0.101372</td>\n",
       "      <td>0.077761</td>\n",
       "      <td>-0.008071</td>\n",
       "      <td>0.062114</td>\n",
       "      <td>-0.038992</td>\n",
       "    </tr>\n",
       "    <tr>\n",
       "      <th>balance</th>\n",
       "      <td>0.112300</td>\n",
       "      <td>1.000000</td>\n",
       "      <td>0.022436</td>\n",
       "      <td>-0.013894</td>\n",
       "      <td>0.030805</td>\n",
       "      <td>-0.060954</td>\n",
       "      <td>-0.077092</td>\n",
       "      <td>-0.084589</td>\n",
       "      <td>0.081129</td>\n",
       "      <td>-0.004379</td>\n",
       "      <td>...</td>\n",
       "      <td>-0.017586</td>\n",
       "      <td>0.025431</td>\n",
       "      <td>-0.014994</td>\n",
       "      <td>-0.000673</td>\n",
       "      <td>-0.070609</td>\n",
       "      <td>0.069128</td>\n",
       "      <td>0.014596</td>\n",
       "      <td>0.001695</td>\n",
       "      <td>0.045603</td>\n",
       "      <td>-0.034524</td>\n",
       "    </tr>\n",
       "    <tr>\n",
       "      <th>duration</th>\n",
       "      <td>0.000189</td>\n",
       "      <td>0.022436</td>\n",
       "      <td>1.000000</td>\n",
       "      <td>-0.041557</td>\n",
       "      <td>-0.026716</td>\n",
       "      <td>-0.009760</td>\n",
       "      <td>0.035051</td>\n",
       "      <td>-0.001914</td>\n",
       "      <td>0.451919</td>\n",
       "      <td>-0.014868</td>\n",
       "      <td>...</td>\n",
       "      <td>0.021364</td>\n",
       "      <td>-0.036179</td>\n",
       "      <td>0.023847</td>\n",
       "      <td>0.013405</td>\n",
       "      <td>0.003820</td>\n",
       "      <td>-0.006813</td>\n",
       "      <td>-0.015887</td>\n",
       "      <td>-0.033966</td>\n",
       "      <td>-0.022578</td>\n",
       "      <td>0.042725</td>\n",
       "    </tr>\n",
       "    <tr>\n",
       "      <th>campaign</th>\n",
       "      <td>-0.005278</td>\n",
       "      <td>-0.013894</td>\n",
       "      <td>-0.041557</td>\n",
       "      <td>1.000000</td>\n",
       "      <td>-0.049699</td>\n",
       "      <td>0.030975</td>\n",
       "      <td>0.006660</td>\n",
       "      <td>0.034722</td>\n",
       "      <td>-0.128081</td>\n",
       "      <td>-0.026296</td>\n",
       "      <td>...</td>\n",
       "      <td>-0.006828</td>\n",
       "      <td>0.047722</td>\n",
       "      <td>-0.046165</td>\n",
       "      <td>0.019915</td>\n",
       "      <td>-0.013834</td>\n",
       "      <td>-0.005427</td>\n",
       "      <td>0.012976</td>\n",
       "      <td>-0.080188</td>\n",
       "      <td>-0.091807</td>\n",
       "      <td>0.128907</td>\n",
       "    </tr>\n",
       "    <tr>\n",
       "      <th>previous</th>\n",
       "      <td>0.020169</td>\n",
       "      <td>0.030805</td>\n",
       "      <td>-0.026716</td>\n",
       "      <td>-0.049699</td>\n",
       "      <td>1.000000</td>\n",
       "      <td>-0.035273</td>\n",
       "      <td>-0.000840</td>\n",
       "      <td>-0.022668</td>\n",
       "      <td>0.139867</td>\n",
       "      <td>0.122076</td>\n",
       "      <td>...</td>\n",
       "      <td>-0.026566</td>\n",
       "      <td>-0.005176</td>\n",
       "      <td>0.023817</td>\n",
       "      <td>-0.024852</td>\n",
       "      <td>-0.004620</td>\n",
       "      <td>0.028146</td>\n",
       "      <td>-0.011898</td>\n",
       "      <td>0.335870</td>\n",
       "      <td>0.325477</td>\n",
       "      <td>-0.496921</td>\n",
       "    </tr>\n",
       "    <tr>\n",
       "      <th>default_cat</th>\n",
       "      <td>-0.011425</td>\n",
       "      <td>-0.060954</td>\n",
       "      <td>-0.009760</td>\n",
       "      <td>0.030975</td>\n",
       "      <td>-0.035273</td>\n",
       "      <td>1.000000</td>\n",
       "      <td>0.011076</td>\n",
       "      <td>0.076434</td>\n",
       "      <td>-0.040680</td>\n",
       "      <td>-0.011290</td>\n",
       "      <td>...</td>\n",
       "      <td>0.019633</td>\n",
       "      <td>-0.006819</td>\n",
       "      <td>-0.006255</td>\n",
       "      <td>0.013858</td>\n",
       "      <td>-0.000618</td>\n",
       "      <td>-0.011768</td>\n",
       "      <td>0.005421</td>\n",
       "      <td>-0.024650</td>\n",
       "      <td>-0.040272</td>\n",
       "      <td>0.048403</td>\n",
       "    </tr>\n",
       "    <tr>\n",
       "      <th>housing_cat</th>\n",
       "      <td>-0.168700</td>\n",
       "      <td>-0.077092</td>\n",
       "      <td>0.035051</td>\n",
       "      <td>0.006660</td>\n",
       "      <td>-0.000840</td>\n",
       "      <td>0.011076</td>\n",
       "      <td>1.000000</td>\n",
       "      <td>0.076761</td>\n",
       "      <td>-0.203888</td>\n",
       "      <td>-0.029350</td>\n",
       "      <td>...</td>\n",
       "      <td>0.007430</td>\n",
       "      <td>0.036305</td>\n",
       "      <td>-0.043817</td>\n",
       "      <td>0.017002</td>\n",
       "      <td>0.118514</td>\n",
       "      <td>-0.114955</td>\n",
       "      <td>-0.053191</td>\n",
       "      <td>0.087741</td>\n",
       "      <td>-0.136299</td>\n",
       "      <td>0.031375</td>\n",
       "    </tr>\n",
       "    <tr>\n",
       "      <th>loan_cat</th>\n",
       "      <td>-0.031418</td>\n",
       "      <td>-0.084589</td>\n",
       "      <td>-0.001914</td>\n",
       "      <td>0.034722</td>\n",
       "      <td>-0.022668</td>\n",
       "      <td>0.076434</td>\n",
       "      <td>0.076761</td>\n",
       "      <td>1.000000</td>\n",
       "      <td>-0.110580</td>\n",
       "      <td>-0.012697</td>\n",
       "      <td>...</td>\n",
       "      <td>0.026463</td>\n",
       "      <td>0.044148</td>\n",
       "      <td>-0.065288</td>\n",
       "      <td>0.006854</td>\n",
       "      <td>0.079583</td>\n",
       "      <td>-0.067513</td>\n",
       "      <td>-0.050249</td>\n",
       "      <td>0.006264</td>\n",
       "      <td>-0.080370</td>\n",
       "      <td>0.053686</td>\n",
       "    </tr>\n",
       "    <tr>\n",
       "      <th>deposit_cat</th>\n",
       "      <td>0.034901</td>\n",
       "      <td>0.081129</td>\n",
       "      <td>0.451919</td>\n",
       "      <td>-0.128081</td>\n",
       "      <td>0.139867</td>\n",
       "      <td>-0.040680</td>\n",
       "      <td>-0.203888</td>\n",
       "      <td>-0.110580</td>\n",
       "      <td>1.000000</td>\n",
       "      <td>0.034457</td>\n",
       "      <td>...</td>\n",
       "      <td>0.005228</td>\n",
       "      <td>-0.092157</td>\n",
       "      <td>0.094632</td>\n",
       "      <td>-0.063002</td>\n",
       "      <td>-0.051952</td>\n",
       "      <td>0.094598</td>\n",
       "      <td>0.014355</td>\n",
       "      <td>0.020714</td>\n",
       "      <td>0.286642</td>\n",
       "      <td>-0.224785</td>\n",
       "    </tr>\n",
       "    <tr>\n",
       "      <th>recent_pdays</th>\n",
       "      <td>0.019102</td>\n",
       "      <td>-0.004379</td>\n",
       "      <td>-0.014868</td>\n",
       "      <td>-0.026296</td>\n",
       "      <td>0.122076</td>\n",
       "      <td>-0.011290</td>\n",
       "      <td>-0.029350</td>\n",
       "      <td>-0.012697</td>\n",
       "      <td>0.034457</td>\n",
       "      <td>1.000000</td>\n",
       "      <td>...</td>\n",
       "      <td>-0.020253</td>\n",
       "      <td>0.009583</td>\n",
       "      <td>0.003736</td>\n",
       "      <td>-0.007034</td>\n",
       "      <td>-0.017129</td>\n",
       "      <td>0.017346</td>\n",
       "      <td>0.013590</td>\n",
       "      <td>0.051422</td>\n",
       "      <td>0.119598</td>\n",
       "      <td>-0.126890</td>\n",
       "    </tr>\n",
       "    <tr>\n",
       "      <th>job_blue-collar</th>\n",
       "      <td>-0.066567</td>\n",
       "      <td>-0.046220</td>\n",
       "      <td>0.029986</td>\n",
       "      <td>0.005522</td>\n",
       "      <td>-0.039939</td>\n",
       "      <td>0.022779</td>\n",
       "      <td>0.189848</td>\n",
       "      <td>0.057956</td>\n",
       "      <td>-0.100840</td>\n",
       "      <td>-0.018514</td>\n",
       "      <td>...</td>\n",
       "      <td>-0.056240</td>\n",
       "      <td>0.109188</td>\n",
       "      <td>-0.077645</td>\n",
       "      <td>0.299737</td>\n",
       "      <td>0.076687</td>\n",
       "      <td>-0.298548</td>\n",
       "      <td>-0.000640</td>\n",
       "      <td>-0.018022</td>\n",
       "      <td>-0.077422</td>\n",
       "      <td>0.070330</td>\n",
       "    </tr>\n",
       "    <tr>\n",
       "      <th>job_entrepreneur</th>\n",
       "      <td>0.024176</td>\n",
       "      <td>0.005039</td>\n",
       "      <td>-0.000908</td>\n",
       "      <td>0.013883</td>\n",
       "      <td>-0.022470</td>\n",
       "      <td>0.022060</td>\n",
       "      <td>0.011492</td>\n",
       "      <td>0.042631</td>\n",
       "      <td>-0.034443</td>\n",
       "      <td>0.006251</td>\n",
       "      <td>...</td>\n",
       "      <td>0.006638</td>\n",
       "      <td>0.050746</td>\n",
       "      <td>-0.058665</td>\n",
       "      <td>-0.004788</td>\n",
       "      <td>-0.021132</td>\n",
       "      <td>0.026612</td>\n",
       "      <td>-0.001555</td>\n",
       "      <td>-0.001840</td>\n",
       "      <td>-0.035072</td>\n",
       "      <td>0.026966</td>\n",
       "    </tr>\n",
       "    <tr>\n",
       "      <th>job_other</th>\n",
       "      <td>0.296418</td>\n",
       "      <td>0.050744</td>\n",
       "      <td>0.010680</td>\n",
       "      <td>-0.050212</td>\n",
       "      <td>0.031191</td>\n",
       "      <td>-0.018130</td>\n",
       "      <td>-0.233309</td>\n",
       "      <td>-0.096196</td>\n",
       "      <td>0.144408</td>\n",
       "      <td>0.024356</td>\n",
       "      <td>...</td>\n",
       "      <td>0.032824</td>\n",
       "      <td>-0.030982</td>\n",
       "      <td>0.010413</td>\n",
       "      <td>0.114003</td>\n",
       "      <td>-0.020532</td>\n",
       "      <td>-0.110383</td>\n",
       "      <td>0.112986</td>\n",
       "      <td>-0.010865</td>\n",
       "      <td>0.099733</td>\n",
       "      <td>-0.064228</td>\n",
       "    </tr>\n",
       "    <tr>\n",
       "      <th>job_pink-collar</th>\n",
       "      <td>-0.027942</td>\n",
       "      <td>-0.041063</td>\n",
       "      <td>0.005345</td>\n",
       "      <td>0.011958</td>\n",
       "      <td>-0.028623</td>\n",
       "      <td>-0.007173</td>\n",
       "      <td>0.043884</td>\n",
       "      <td>0.014969</td>\n",
       "      <td>-0.051717</td>\n",
       "      <td>-0.001183</td>\n",
       "      <td>...</td>\n",
       "      <td>0.025640</td>\n",
       "      <td>0.007558</td>\n",
       "      <td>-0.025718</td>\n",
       "      <td>0.056150</td>\n",
       "      <td>0.137129</td>\n",
       "      <td>-0.184418</td>\n",
       "      <td>-0.004629</td>\n",
       "      <td>-0.010816</td>\n",
       "      <td>-0.030331</td>\n",
       "      <td>0.030459</td>\n",
       "    </tr>\n",
       "    <tr>\n",
       "      <th>job_self-employed</th>\n",
       "      <td>-0.023163</td>\n",
       "      <td>0.020264</td>\n",
       "      <td>0.013506</td>\n",
       "      <td>0.001776</td>\n",
       "      <td>-0.002338</td>\n",
       "      <td>0.007493</td>\n",
       "      <td>-0.016903</td>\n",
       "      <td>0.004299</td>\n",
       "      <td>-0.004707</td>\n",
       "      <td>-0.008226</td>\n",
       "      <td>...</td>\n",
       "      <td>-0.011849</td>\n",
       "      <td>-0.008164</td>\n",
       "      <td>0.016864</td>\n",
       "      <td>-0.037121</td>\n",
       "      <td>-0.060080</td>\n",
       "      <td>0.097929</td>\n",
       "      <td>-0.016336</td>\n",
       "      <td>-0.010039</td>\n",
       "      <td>-0.001399</td>\n",
       "      <td>0.008786</td>\n",
       "    </tr>\n",
       "    <tr>\n",
       "      <th>job_technician</th>\n",
       "      <td>-0.082716</td>\n",
       "      <td>0.003802</td>\n",
       "      <td>-0.010440</td>\n",
       "      <td>0.021738</td>\n",
       "      <td>0.002035</td>\n",
       "      <td>0.003109</td>\n",
       "      <td>0.006551</td>\n",
       "      <td>0.006864</td>\n",
       "      <td>-0.011557</td>\n",
       "      <td>-0.007412</td>\n",
       "      <td>...</td>\n",
       "      <td>-0.005434</td>\n",
       "      <td>-0.052492</td>\n",
       "      <td>0.059696</td>\n",
       "      <td>-0.144948</td>\n",
       "      <td>0.152542</td>\n",
       "      <td>-0.041988</td>\n",
       "      <td>-0.034276</td>\n",
       "      <td>0.005763</td>\n",
       "      <td>-0.014744</td>\n",
       "      <td>0.006279</td>\n",
       "    </tr>\n",
       "    <tr>\n",
       "      <th>job_white-collar</th>\n",
       "      <td>-0.080122</td>\n",
       "      <td>0.013780</td>\n",
       "      <td>-0.031980</td>\n",
       "      <td>0.001944</td>\n",
       "      <td>0.034929</td>\n",
       "      <td>-0.013425</td>\n",
       "      <td>-0.012111</td>\n",
       "      <td>-0.007871</td>\n",
       "      <td>0.031621</td>\n",
       "      <td>0.004516</td>\n",
       "      <td>...</td>\n",
       "      <td>0.010701</td>\n",
       "      <td>-0.043270</td>\n",
       "      <td>0.038752</td>\n",
       "      <td>-0.229245</td>\n",
       "      <td>-0.222261</td>\n",
       "      <td>0.422261</td>\n",
       "      <td>-0.045233</td>\n",
       "      <td>0.029387</td>\n",
       "      <td>0.033044</td>\n",
       "      <td>-0.046804</td>\n",
       "    </tr>\n",
       "    <tr>\n",
       "      <th>marital_divorced</th>\n",
       "      <td>0.186349</td>\n",
       "      <td>-0.017586</td>\n",
       "      <td>0.021364</td>\n",
       "      <td>-0.006828</td>\n",
       "      <td>-0.026566</td>\n",
       "      <td>0.019633</td>\n",
       "      <td>0.007430</td>\n",
       "      <td>0.026463</td>\n",
       "      <td>0.005228</td>\n",
       "      <td>-0.020253</td>\n",
       "      <td>...</td>\n",
       "      <td>1.000000</td>\n",
       "      <td>-0.415878</td>\n",
       "      <td>-0.245556</td>\n",
       "      <td>0.024821</td>\n",
       "      <td>0.009891</td>\n",
       "      <td>-0.024597</td>\n",
       "      <td>-0.008920</td>\n",
       "      <td>-0.026169</td>\n",
       "      <td>-0.018120</td>\n",
       "      <td>0.033445</td>\n",
       "    </tr>\n",
       "    <tr>\n",
       "      <th>marital_married</th>\n",
       "      <td>0.318436</td>\n",
       "      <td>0.025431</td>\n",
       "      <td>-0.036179</td>\n",
       "      <td>0.047722</td>\n",
       "      <td>-0.005176</td>\n",
       "      <td>-0.006819</td>\n",
       "      <td>0.036305</td>\n",
       "      <td>0.044148</td>\n",
       "      <td>-0.092157</td>\n",
       "      <td>0.009583</td>\n",
       "      <td>...</td>\n",
       "      <td>-0.415878</td>\n",
       "      <td>1.000000</td>\n",
       "      <td>-0.779455</td>\n",
       "      <td>0.130232</td>\n",
       "      <td>0.001536</td>\n",
       "      <td>-0.098449</td>\n",
       "      <td>0.005451</td>\n",
       "      <td>0.007682</td>\n",
       "      <td>-0.010063</td>\n",
       "      <td>0.001384</td>\n",
       "    </tr>\n",
       "    <tr>\n",
       "      <th>marital_single</th>\n",
       "      <td>-0.467799</td>\n",
       "      <td>-0.014994</td>\n",
       "      <td>0.023847</td>\n",
       "      <td>-0.046165</td>\n",
       "      <td>0.023817</td>\n",
       "      <td>-0.006255</td>\n",
       "      <td>-0.043817</td>\n",
       "      <td>-0.065288</td>\n",
       "      <td>0.094632</td>\n",
       "      <td>0.003736</td>\n",
       "      <td>...</td>\n",
       "      <td>-0.245556</td>\n",
       "      <td>-0.779455</td>\n",
       "      <td>1.000000</td>\n",
       "      <td>-0.155917</td>\n",
       "      <td>-0.008450</td>\n",
       "      <td>0.121884</td>\n",
       "      <td>0.000334</td>\n",
       "      <td>0.009838</td>\n",
       "      <td>0.023208</td>\n",
       "      <td>-0.024514</td>\n",
       "    </tr>\n",
       "    <tr>\n",
       "      <th>education_primary</th>\n",
       "      <td>0.231150</td>\n",
       "      <td>-0.000673</td>\n",
       "      <td>0.013405</td>\n",
       "      <td>0.019915</td>\n",
       "      <td>-0.024852</td>\n",
       "      <td>0.013858</td>\n",
       "      <td>0.017002</td>\n",
       "      <td>0.006854</td>\n",
       "      <td>-0.063002</td>\n",
       "      <td>-0.007034</td>\n",
       "      <td>...</td>\n",
       "      <td>0.024821</td>\n",
       "      <td>0.130232</td>\n",
       "      <td>-0.155917</td>\n",
       "      <td>1.000000</td>\n",
       "      <td>-0.386670</td>\n",
       "      <td>-0.276834</td>\n",
       "      <td>-0.085057</td>\n",
       "      <td>-0.026044</td>\n",
       "      <td>-0.049879</td>\n",
       "      <td>0.056477</td>\n",
       "    </tr>\n",
       "    <tr>\n",
       "      <th>education_secondary</th>\n",
       "      <td>-0.094400</td>\n",
       "      <td>-0.070609</td>\n",
       "      <td>0.003820</td>\n",
       "      <td>-0.013834</td>\n",
       "      <td>-0.004620</td>\n",
       "      <td>-0.000618</td>\n",
       "      <td>0.118514</td>\n",
       "      <td>0.079583</td>\n",
       "      <td>-0.051952</td>\n",
       "      <td>-0.017129</td>\n",
       "      <td>...</td>\n",
       "      <td>0.009891</td>\n",
       "      <td>0.001536</td>\n",
       "      <td>-0.008450</td>\n",
       "      <td>-0.386670</td>\n",
       "      <td>1.000000</td>\n",
       "      <td>-0.689501</td>\n",
       "      <td>-0.211849</td>\n",
       "      <td>0.010625</td>\n",
       "      <td>-0.029466</td>\n",
       "      <td>0.013238</td>\n",
       "    </tr>\n",
       "    <tr>\n",
       "      <th>education_tertiary</th>\n",
       "      <td>-0.101372</td>\n",
       "      <td>0.069128</td>\n",
       "      <td>-0.006813</td>\n",
       "      <td>-0.005427</td>\n",
       "      <td>0.028146</td>\n",
       "      <td>-0.011768</td>\n",
       "      <td>-0.114955</td>\n",
       "      <td>-0.067513</td>\n",
       "      <td>0.094598</td>\n",
       "      <td>0.017346</td>\n",
       "      <td>...</td>\n",
       "      <td>-0.024597</td>\n",
       "      <td>-0.098449</td>\n",
       "      <td>0.121884</td>\n",
       "      <td>-0.276834</td>\n",
       "      <td>-0.689501</td>\n",
       "      <td>1.000000</td>\n",
       "      <td>-0.151672</td>\n",
       "      <td>0.012265</td>\n",
       "      <td>0.059518</td>\n",
       "      <td>-0.052836</td>\n",
       "    </tr>\n",
       "    <tr>\n",
       "      <th>education_unknown</th>\n",
       "      <td>0.077761</td>\n",
       "      <td>0.014596</td>\n",
       "      <td>-0.015887</td>\n",
       "      <td>0.012976</td>\n",
       "      <td>-0.011898</td>\n",
       "      <td>0.005421</td>\n",
       "      <td>-0.053191</td>\n",
       "      <td>-0.050249</td>\n",
       "      <td>0.014355</td>\n",
       "      <td>0.013590</td>\n",
       "      <td>...</td>\n",
       "      <td>-0.008920</td>\n",
       "      <td>0.005451</td>\n",
       "      <td>0.000334</td>\n",
       "      <td>-0.085057</td>\n",
       "      <td>-0.211849</td>\n",
       "      <td>-0.151672</td>\n",
       "      <td>1.000000</td>\n",
       "      <td>-0.010658</td>\n",
       "      <td>0.018158</td>\n",
       "      <td>-0.004978</td>\n",
       "    </tr>\n",
       "    <tr>\n",
       "      <th>poutcome_failure</th>\n",
       "      <td>-0.008071</td>\n",
       "      <td>0.001695</td>\n",
       "      <td>-0.033966</td>\n",
       "      <td>-0.080188</td>\n",
       "      <td>0.335870</td>\n",
       "      <td>-0.024650</td>\n",
       "      <td>0.087741</td>\n",
       "      <td>0.006264</td>\n",
       "      <td>0.020714</td>\n",
       "      <td>0.051422</td>\n",
       "      <td>...</td>\n",
       "      <td>-0.026169</td>\n",
       "      <td>0.007682</td>\n",
       "      <td>0.009838</td>\n",
       "      <td>-0.026044</td>\n",
       "      <td>0.010625</td>\n",
       "      <td>0.012265</td>\n",
       "      <td>-0.010658</td>\n",
       "      <td>1.000000</td>\n",
       "      <td>-0.114542</td>\n",
       "      <td>-0.690332</td>\n",
       "    </tr>\n",
       "    <tr>\n",
       "      <th>poutcome_success</th>\n",
       "      <td>0.062114</td>\n",
       "      <td>0.045603</td>\n",
       "      <td>-0.022578</td>\n",
       "      <td>-0.091807</td>\n",
       "      <td>0.325477</td>\n",
       "      <td>-0.040272</td>\n",
       "      <td>-0.136299</td>\n",
       "      <td>-0.080370</td>\n",
       "      <td>0.286642</td>\n",
       "      <td>0.119598</td>\n",
       "      <td>...</td>\n",
       "      <td>-0.018120</td>\n",
       "      <td>-0.010063</td>\n",
       "      <td>0.023208</td>\n",
       "      <td>-0.049879</td>\n",
       "      <td>-0.029466</td>\n",
       "      <td>0.059518</td>\n",
       "      <td>0.018158</td>\n",
       "      <td>-0.114542</td>\n",
       "      <td>1.000000</td>\n",
       "      <td>-0.639659</td>\n",
       "    </tr>\n",
       "    <tr>\n",
       "      <th>poutcome_unknown</th>\n",
       "      <td>-0.038992</td>\n",
       "      <td>-0.034524</td>\n",
       "      <td>0.042725</td>\n",
       "      <td>0.128907</td>\n",
       "      <td>-0.496921</td>\n",
       "      <td>0.048403</td>\n",
       "      <td>0.031375</td>\n",
       "      <td>0.053686</td>\n",
       "      <td>-0.224785</td>\n",
       "      <td>-0.126890</td>\n",
       "      <td>...</td>\n",
       "      <td>0.033445</td>\n",
       "      <td>0.001384</td>\n",
       "      <td>-0.024514</td>\n",
       "      <td>0.056477</td>\n",
       "      <td>0.013238</td>\n",
       "      <td>-0.052836</td>\n",
       "      <td>-0.004978</td>\n",
       "      <td>-0.690332</td>\n",
       "      <td>-0.639659</td>\n",
       "      <td>1.000000</td>\n",
       "    </tr>\n",
       "  </tbody>\n",
       "</table>\n",
       "<p>27 rows × 27 columns</p>\n",
       "</div>"
      ],
      "text/plain": [
       "                          age   balance  duration  campaign  previous  \\\n",
       "age                  1.000000  0.112300  0.000189 -0.005278  0.020169   \n",
       "balance              0.112300  1.000000  0.022436 -0.013894  0.030805   \n",
       "duration             0.000189  0.022436  1.000000 -0.041557 -0.026716   \n",
       "campaign            -0.005278 -0.013894 -0.041557  1.000000 -0.049699   \n",
       "previous             0.020169  0.030805 -0.026716 -0.049699  1.000000   \n",
       "default_cat         -0.011425 -0.060954 -0.009760  0.030975 -0.035273   \n",
       "housing_cat         -0.168700 -0.077092  0.035051  0.006660 -0.000840   \n",
       "loan_cat            -0.031418 -0.084589 -0.001914  0.034722 -0.022668   \n",
       "deposit_cat          0.034901  0.081129  0.451919 -0.128081  0.139867   \n",
       "recent_pdays         0.019102 -0.004379 -0.014868 -0.026296  0.122076   \n",
       "job_blue-collar     -0.066567 -0.046220  0.029986  0.005522 -0.039939   \n",
       "job_entrepreneur     0.024176  0.005039 -0.000908  0.013883 -0.022470   \n",
       "job_other            0.296418  0.050744  0.010680 -0.050212  0.031191   \n",
       "job_pink-collar     -0.027942 -0.041063  0.005345  0.011958 -0.028623   \n",
       "job_self-employed   -0.023163  0.020264  0.013506  0.001776 -0.002338   \n",
       "job_technician      -0.082716  0.003802 -0.010440  0.021738  0.002035   \n",
       "job_white-collar    -0.080122  0.013780 -0.031980  0.001944  0.034929   \n",
       "marital_divorced     0.186349 -0.017586  0.021364 -0.006828 -0.026566   \n",
       "marital_married      0.318436  0.025431 -0.036179  0.047722 -0.005176   \n",
       "marital_single      -0.467799 -0.014994  0.023847 -0.046165  0.023817   \n",
       "education_primary    0.231150 -0.000673  0.013405  0.019915 -0.024852   \n",
       "education_secondary -0.094400 -0.070609  0.003820 -0.013834 -0.004620   \n",
       "education_tertiary  -0.101372  0.069128 -0.006813 -0.005427  0.028146   \n",
       "education_unknown    0.077761  0.014596 -0.015887  0.012976 -0.011898   \n",
       "poutcome_failure    -0.008071  0.001695 -0.033966 -0.080188  0.335870   \n",
       "poutcome_success     0.062114  0.045603 -0.022578 -0.091807  0.325477   \n",
       "poutcome_unknown    -0.038992 -0.034524  0.042725  0.128907 -0.496921   \n",
       "\n",
       "                     default_cat  housing_cat  loan_cat  deposit_cat  \\\n",
       "age                    -0.011425    -0.168700 -0.031418     0.034901   \n",
       "balance                -0.060954    -0.077092 -0.084589     0.081129   \n",
       "duration               -0.009760     0.035051 -0.001914     0.451919   \n",
       "campaign                0.030975     0.006660  0.034722    -0.128081   \n",
       "previous               -0.035273    -0.000840 -0.022668     0.139867   \n",
       "default_cat             1.000000     0.011076  0.076434    -0.040680   \n",
       "housing_cat             0.011076     1.000000  0.076761    -0.203888   \n",
       "loan_cat                0.076434     0.076761  1.000000    -0.110580   \n",
       "deposit_cat            -0.040680    -0.203888 -0.110580     1.000000   \n",
       "recent_pdays           -0.011290    -0.029350 -0.012697     0.034457   \n",
       "job_blue-collar         0.022779     0.189848  0.057956    -0.100840   \n",
       "job_entrepreneur        0.022060     0.011492  0.042631    -0.034443   \n",
       "job_other              -0.018130    -0.233309 -0.096196     0.144408   \n",
       "job_pink-collar        -0.007173     0.043884  0.014969    -0.051717   \n",
       "job_self-employed       0.007493    -0.016903  0.004299    -0.004707   \n",
       "job_technician          0.003109     0.006551  0.006864    -0.011557   \n",
       "job_white-collar       -0.013425    -0.012111 -0.007871     0.031621   \n",
       "marital_divorced        0.019633     0.007430  0.026463     0.005228   \n",
       "marital_married        -0.006819     0.036305  0.044148    -0.092157   \n",
       "marital_single         -0.006255    -0.043817 -0.065288     0.094632   \n",
       "education_primary       0.013858     0.017002  0.006854    -0.063002   \n",
       "education_secondary    -0.000618     0.118514  0.079583    -0.051952   \n",
       "education_tertiary     -0.011768    -0.114955 -0.067513     0.094598   \n",
       "education_unknown       0.005421    -0.053191 -0.050249     0.014355   \n",
       "poutcome_failure       -0.024650     0.087741  0.006264     0.020714   \n",
       "poutcome_success       -0.040272    -0.136299 -0.080370     0.286642   \n",
       "poutcome_unknown        0.048403     0.031375  0.053686    -0.224785   \n",
       "\n",
       "                     recent_pdays  ...  marital_divorced  marital_married  \\\n",
       "age                      0.019102  ...          0.186349         0.318436   \n",
       "balance                 -0.004379  ...         -0.017586         0.025431   \n",
       "duration                -0.014868  ...          0.021364        -0.036179   \n",
       "campaign                -0.026296  ...         -0.006828         0.047722   \n",
       "previous                 0.122076  ...         -0.026566        -0.005176   \n",
       "default_cat             -0.011290  ...          0.019633        -0.006819   \n",
       "housing_cat             -0.029350  ...          0.007430         0.036305   \n",
       "loan_cat                -0.012697  ...          0.026463         0.044148   \n",
       "deposit_cat              0.034457  ...          0.005228        -0.092157   \n",
       "recent_pdays             1.000000  ...         -0.020253         0.009583   \n",
       "job_blue-collar         -0.018514  ...         -0.056240         0.109188   \n",
       "job_entrepreneur         0.006251  ...          0.006638         0.050746   \n",
       "job_other                0.024356  ...          0.032824        -0.030982   \n",
       "job_pink-collar         -0.001183  ...          0.025640         0.007558   \n",
       "job_self-employed       -0.008226  ...         -0.011849        -0.008164   \n",
       "job_technician          -0.007412  ...         -0.005434        -0.052492   \n",
       "job_white-collar         0.004516  ...          0.010701        -0.043270   \n",
       "marital_divorced        -0.020253  ...          1.000000        -0.415878   \n",
       "marital_married          0.009583  ...         -0.415878         1.000000   \n",
       "marital_single           0.003736  ...         -0.245556        -0.779455   \n",
       "education_primary       -0.007034  ...          0.024821         0.130232   \n",
       "education_secondary     -0.017129  ...          0.009891         0.001536   \n",
       "education_tertiary       0.017346  ...         -0.024597        -0.098449   \n",
       "education_unknown        0.013590  ...         -0.008920         0.005451   \n",
       "poutcome_failure         0.051422  ...         -0.026169         0.007682   \n",
       "poutcome_success         0.119598  ...         -0.018120        -0.010063   \n",
       "poutcome_unknown        -0.126890  ...          0.033445         0.001384   \n",
       "\n",
       "                     marital_single  education_primary  education_secondary  \\\n",
       "age                       -0.467799           0.231150            -0.094400   \n",
       "balance                   -0.014994          -0.000673            -0.070609   \n",
       "duration                   0.023847           0.013405             0.003820   \n",
       "campaign                  -0.046165           0.019915            -0.013834   \n",
       "previous                   0.023817          -0.024852            -0.004620   \n",
       "default_cat               -0.006255           0.013858            -0.000618   \n",
       "housing_cat               -0.043817           0.017002             0.118514   \n",
       "loan_cat                  -0.065288           0.006854             0.079583   \n",
       "deposit_cat                0.094632          -0.063002            -0.051952   \n",
       "recent_pdays               0.003736          -0.007034            -0.017129   \n",
       "job_blue-collar           -0.077645           0.299737             0.076687   \n",
       "job_entrepreneur          -0.058665          -0.004788            -0.021132   \n",
       "job_other                  0.010413           0.114003            -0.020532   \n",
       "job_pink-collar           -0.025718           0.056150             0.137129   \n",
       "job_self-employed          0.016864          -0.037121            -0.060080   \n",
       "job_technician             0.059696          -0.144948             0.152542   \n",
       "job_white-collar           0.038752          -0.229245            -0.222261   \n",
       "marital_divorced          -0.245556           0.024821             0.009891   \n",
       "marital_married           -0.779455           0.130232             0.001536   \n",
       "marital_single             1.000000          -0.155917            -0.008450   \n",
       "education_primary         -0.155917           1.000000            -0.386670   \n",
       "education_secondary       -0.008450          -0.386670             1.000000   \n",
       "education_tertiary         0.121884          -0.276834            -0.689501   \n",
       "education_unknown          0.000334          -0.085057            -0.211849   \n",
       "poutcome_failure           0.009838          -0.026044             0.010625   \n",
       "poutcome_success           0.023208          -0.049879            -0.029466   \n",
       "poutcome_unknown          -0.024514           0.056477             0.013238   \n",
       "\n",
       "                     education_tertiary  education_unknown  poutcome_failure  \\\n",
       "age                           -0.101372           0.077761         -0.008071   \n",
       "balance                        0.069128           0.014596          0.001695   \n",
       "duration                      -0.006813          -0.015887         -0.033966   \n",
       "campaign                      -0.005427           0.012976         -0.080188   \n",
       "previous                       0.028146          -0.011898          0.335870   \n",
       "default_cat                   -0.011768           0.005421         -0.024650   \n",
       "housing_cat                   -0.114955          -0.053191          0.087741   \n",
       "loan_cat                      -0.067513          -0.050249          0.006264   \n",
       "deposit_cat                    0.094598           0.014355          0.020714   \n",
       "recent_pdays                   0.017346           0.013590          0.051422   \n",
       "job_blue-collar               -0.298548          -0.000640         -0.018022   \n",
       "job_entrepreneur               0.026612          -0.001555         -0.001840   \n",
       "job_other                     -0.110383           0.112986         -0.010865   \n",
       "job_pink-collar               -0.184418          -0.004629         -0.010816   \n",
       "job_self-employed              0.097929          -0.016336         -0.010039   \n",
       "job_technician                -0.041988          -0.034276          0.005763   \n",
       "job_white-collar               0.422261          -0.045233          0.029387   \n",
       "marital_divorced              -0.024597          -0.008920         -0.026169   \n",
       "marital_married               -0.098449           0.005451          0.007682   \n",
       "marital_single                 0.121884           0.000334          0.009838   \n",
       "education_primary             -0.276834          -0.085057         -0.026044   \n",
       "education_secondary           -0.689501          -0.211849          0.010625   \n",
       "education_tertiary             1.000000          -0.151672          0.012265   \n",
       "education_unknown             -0.151672           1.000000         -0.010658   \n",
       "poutcome_failure               0.012265          -0.010658          1.000000   \n",
       "poutcome_success               0.059518           0.018158         -0.114542   \n",
       "poutcome_unknown              -0.052836          -0.004978         -0.690332   \n",
       "\n",
       "                     poutcome_success  poutcome_unknown  \n",
       "age                          0.062114         -0.038992  \n",
       "balance                      0.045603         -0.034524  \n",
       "duration                    -0.022578          0.042725  \n",
       "campaign                    -0.091807          0.128907  \n",
       "previous                     0.325477         -0.496921  \n",
       "default_cat                 -0.040272          0.048403  \n",
       "housing_cat                 -0.136299          0.031375  \n",
       "loan_cat                    -0.080370          0.053686  \n",
       "deposit_cat                  0.286642         -0.224785  \n",
       "recent_pdays                 0.119598         -0.126890  \n",
       "job_blue-collar             -0.077422          0.070330  \n",
       "job_entrepreneur            -0.035072          0.026966  \n",
       "job_other                    0.099733         -0.064228  \n",
       "job_pink-collar             -0.030331          0.030459  \n",
       "job_self-employed           -0.001399          0.008786  \n",
       "job_technician              -0.014744          0.006279  \n",
       "job_white-collar             0.033044         -0.046804  \n",
       "marital_divorced            -0.018120          0.033445  \n",
       "marital_married             -0.010063          0.001384  \n",
       "marital_single               0.023208         -0.024514  \n",
       "education_primary           -0.049879          0.056477  \n",
       "education_secondary         -0.029466          0.013238  \n",
       "education_tertiary           0.059518         -0.052836  \n",
       "education_unknown            0.018158         -0.004978  \n",
       "poutcome_failure            -0.114542         -0.690332  \n",
       "poutcome_success             1.000000         -0.639659  \n",
       "poutcome_unknown            -0.639659          1.000000  \n",
       "\n",
       "[27 rows x 27 columns]"
      ]
     },
     "execution_count": 59,
     "metadata": {},
     "output_type": "execute_result"
    }
   ],
   "source": [
    "# The Correltion matrix\n",
    "corr = bankcl.corr()\n",
    "corr"
   ]
  },
  {
   "cell_type": "code",
   "execution_count": 60,
   "metadata": {
    "_cell_guid": "2eb696c8-d468-4642-b7e6-ef3deca070ac",
    "_uuid": "0f56d9c3946d4a50e0048c89ae8373e2204bc61a"
   },
   "outputs": [
    {
     "data": {
      "text/plain": [
       "Text(0.5, 1.0, 'Heatmap of Correlation Matrix')"
      ]
     },
     "execution_count": 60,
     "metadata": {},
     "output_type": "execute_result"
    },
    {
     "data": {
      "image/png": "[encoded data removed]",
      "text/plain": [
       "<Figure size 720x720 with 2 Axes>"
      ]
     },
     "metadata": {
      "needs_background": "light"
     },
     "output_type": "display_data"
    }
   ],
   "source": [
    "# Heatmap\n",
    "plt.figure(figsize = (10,10))\n",
    "cmap = sns.diverging_palette(220, 10, as_cmap=True)\n",
    "sns.heatmap(corr, xticklabels=corr.columns.values, yticklabels=corr.columns.values, cmap=cmap, vmax=.3, center=0, square=True, linewidths=.5, cbar_kws={\"shrink\": .82})\n",
    "plt.title('Heatmap of Correlation Matrix')"
   ]
  },
  {
   "cell_type": "code",
   "execution_count": 61,
   "metadata": {
    "_cell_guid": "73994c65-9028-4ddc-98a1-5b7cdb10a113",
    "_uuid": "ff6ca40f9fd1e7710aa3b0c0ad020ba73aa34a5e"
   },
   "outputs": [
    {
     "data": {
      "text/html": [
       "<div>\n",
       "<style scoped>\n",
       "    .dataframe tbody tr th:only-of-type {\n",
       "        vertical-align: middle;\n",
       "    }\n",
       "\n",
       "    .dataframe tbody tr th {\n",
       "        vertical-align: top;\n",
       "    }\n",
       "\n",
       "    .dataframe thead th {\n",
       "        text-align: right;\n",
       "    }\n",
       "</style>\n",
       "<table border=\"1\" class=\"dataframe\">\n",
       "  <thead>\n",
       "    <tr style=\"text-align: right;\">\n",
       "      <th></th>\n",
       "      <th>deposit_cat</th>\n",
       "    </tr>\n",
       "  </thead>\n",
       "  <tbody>\n",
       "    <tr>\n",
       "      <th>duration</th>\n",
       "      <td>0.451919</td>\n",
       "    </tr>\n",
       "    <tr>\n",
       "      <th>poutcome_success</th>\n",
       "      <td>0.286642</td>\n",
       "    </tr>\n",
       "    <tr>\n",
       "      <th>job_other</th>\n",
       "      <td>0.144408</td>\n",
       "    </tr>\n",
       "    <tr>\n",
       "      <th>previous</th>\n",
       "      <td>0.139867</td>\n",
       "    </tr>\n",
       "    <tr>\n",
       "      <th>marital_single</th>\n",
       "      <td>0.094632</td>\n",
       "    </tr>\n",
       "    <tr>\n",
       "      <th>education_tertiary</th>\n",
       "      <td>0.094598</td>\n",
       "    </tr>\n",
       "    <tr>\n",
       "      <th>balance</th>\n",
       "      <td>0.081129</td>\n",
       "    </tr>\n",
       "    <tr>\n",
       "      <th>age</th>\n",
       "      <td>0.034901</td>\n",
       "    </tr>\n",
       "    <tr>\n",
       "      <th>recent_pdays</th>\n",
       "      <td>0.034457</td>\n",
       "    </tr>\n",
       "    <tr>\n",
       "      <th>job_white-collar</th>\n",
       "      <td>0.031621</td>\n",
       "    </tr>\n",
       "    <tr>\n",
       "      <th>poutcome_failure</th>\n",
       "      <td>0.020714</td>\n",
       "    </tr>\n",
       "    <tr>\n",
       "      <th>education_unknown</th>\n",
       "      <td>0.014355</td>\n",
       "    </tr>\n",
       "    <tr>\n",
       "      <th>marital_divorced</th>\n",
       "      <td>0.005228</td>\n",
       "    </tr>\n",
       "    <tr>\n",
       "      <th>job_self-employed</th>\n",
       "      <td>-0.004707</td>\n",
       "    </tr>\n",
       "    <tr>\n",
       "      <th>job_technician</th>\n",
       "      <td>-0.011557</td>\n",
       "    </tr>\n",
       "    <tr>\n",
       "      <th>job_entrepreneur</th>\n",
       "      <td>-0.034443</td>\n",
       "    </tr>\n",
       "    <tr>\n",
       "      <th>default_cat</th>\n",
       "      <td>-0.040680</td>\n",
       "    </tr>\n",
       "    <tr>\n",
       "      <th>job_pink-collar</th>\n",
       "      <td>-0.051717</td>\n",
       "    </tr>\n",
       "    <tr>\n",
       "      <th>education_secondary</th>\n",
       "      <td>-0.051952</td>\n",
       "    </tr>\n",
       "    <tr>\n",
       "      <th>education_primary</th>\n",
       "      <td>-0.063002</td>\n",
       "    </tr>\n",
       "    <tr>\n",
       "      <th>marital_married</th>\n",
       "      <td>-0.092157</td>\n",
       "    </tr>\n",
       "    <tr>\n",
       "      <th>job_blue-collar</th>\n",
       "      <td>-0.100840</td>\n",
       "    </tr>\n",
       "    <tr>\n",
       "      <th>loan_cat</th>\n",
       "      <td>-0.110580</td>\n",
       "    </tr>\n",
       "    <tr>\n",
       "      <th>campaign</th>\n",
       "      <td>-0.128081</td>\n",
       "    </tr>\n",
       "    <tr>\n",
       "      <th>housing_cat</th>\n",
       "      <td>-0.203888</td>\n",
       "    </tr>\n",
       "    <tr>\n",
       "      <th>poutcome_unknown</th>\n",
       "      <td>-0.224785</td>\n",
       "    </tr>\n",
       "  </tbody>\n",
       "</table>\n",
       "</div>"
      ],
      "text/plain": [
       "                     deposit_cat\n",
       "duration                0.451919\n",
       "poutcome_success        0.286642\n",
       "job_other               0.144408\n",
       "previous                0.139867\n",
       "marital_single          0.094632\n",
       "education_tertiary      0.094598\n",
       "balance                 0.081129\n",
       "age                     0.034901\n",
       "recent_pdays            0.034457\n",
       "job_white-collar        0.031621\n",
       "poutcome_failure        0.020714\n",
       "education_unknown       0.014355\n",
       "marital_divorced        0.005228\n",
       "job_self-employed      -0.004707\n",
       "job_technician         -0.011557\n",
       "job_entrepreneur       -0.034443\n",
       "default_cat            -0.040680\n",
       "job_pink-collar        -0.051717\n",
       "education_secondary    -0.051952\n",
       "education_primary      -0.063002\n",
       "marital_married        -0.092157\n",
       "job_blue-collar        -0.100840\n",
       "loan_cat               -0.110580\n",
       "campaign               -0.128081\n",
       "housing_cat            -0.203888\n",
       "poutcome_unknown       -0.224785"
      ]
     },
     "execution_count": 61,
     "metadata": {},
     "output_type": "execute_result"
    }
   ],
   "source": [
    "# Extract the deposte_cat column (the dependent variable)\n",
    "corr_deposite = pd.DataFrame(corr['deposit_cat'].drop('deposit_cat'))\n",
    "corr_deposite.sort_values(by = 'deposit_cat', ascending = False)"
   ]
  },
  {
   "cell_type": "markdown",
   "metadata": {
    "_cell_guid": "c281ea25-423f-4477-bab5-e1c262d20931",
    "_uuid": "0394776ec1c21f2c30fc66a1ce7a22c7a5e9df5f"
   },
   "source": [
    "> ## Build the Data Model"
   ]
  },
  {
   "cell_type": "code",
   "execution_count": 62,
   "metadata": {
    "_cell_guid": "5675ce89-28f8-409d-9387-ce4641bc4a7b",
    "_uuid": "3b14efa859cd38fce1e118ceae7144d8563dc014"
   },
   "outputs": [],
   "source": [
    "# Train-Test split: 20% test data\n",
    "data_drop_deposite = bankcl.drop('deposit_cat', 1)\n",
    "label = bankcl.deposit_cat\n",
    "data_train, data_test, label_train, label_test = train_test_split(data_drop_deposite, label, test_size = 0.2, random_state = 50)"
   ]
  },
  {
   "cell_type": "code",
   "execution_count": 63,
   "metadata": {
    "_cell_guid": "7b8c8772-a2ec-4399-807e-73ccc4951dd1",
    "_uuid": "4a48b73d67f4f57349d3dbc75c4d02cfeb1d82f9",
    "scrolled": true
   },
   "outputs": [
    {
     "name": "stdout",
     "output_type": "stream",
     "text": [
      "Training score:  0.7285250307985217\n",
      "Testing score:  0.7268248992386923\n"
     ]
    }
   ],
   "source": [
    "# Decision tree with depth = 2\n",
    "dt2 = tree.DecisionTreeClassifier(random_state=1, max_depth=2)\n",
    "dt2.fit(data_train, label_train)\n",
    "dt2_score_train = dt2.score(data_train, label_train)\n",
    "print(\"Training score: \",dt2_score_train)\n",
    "dt2_score_test = dt2.score(data_test, label_test)\n",
    "print(\"Testing score: \",dt2_score_test)"
   ]
  },
  {
   "cell_type": "code",
   "execution_count": 64,
   "metadata": {
    "_cell_guid": "14b771bd-b87e-4ac4-b3ec-64da8bbb7b68",
    "_uuid": "c828f56ae83bf3eac076c3642ad26e51f660d643"
   },
   "outputs": [
    {
     "name": "stdout",
     "output_type": "stream",
     "text": [
      "Training score:  0.770411020271027\n",
      "Testing score:  0.7572772055530677\n"
     ]
    }
   ],
   "source": [
    "# Decision tree with depth = 3\n",
    "dt3 = tree.DecisionTreeClassifier(random_state=1, max_depth=3)\n",
    "dt3.fit(data_train, label_train)\n",
    "dt3_score_train = dt3.score(data_train, label_train)\n",
    "print(\"Training score: \",dt3_score_train)\n",
    "dt3_score_test = dt3.score(data_test, label_test)\n",
    "print(\"Testing score: \",dt3_score_test)"
   ]
  },
  {
   "cell_type": "code",
   "execution_count": 65,
   "metadata": {
    "_cell_guid": "60190973-9780-4b6a-9762-7e43d442db6b",
    "_uuid": "f45e7da9e4052b837a3c363f03de439d16cca6d0"
   },
   "outputs": [
    {
     "name": "stdout",
     "output_type": "stream",
     "text": [
      "Training score:  0.7885541494008288\n",
      "Testing score:  0.774294670846395\n"
     ]
    }
   ],
   "source": [
    "# Decision tree with depth = 4\n",
    "dt4 = tree.DecisionTreeClassifier(random_state=1, max_depth=4)\n",
    "dt4.fit(data_train, label_train)\n",
    "dt4_score_train = dt4.score(data_train, label_train)\n",
    "print(\"Training score: \",dt4_score_train)\n",
    "dt4_score_test = dt4.score(data_test, label_test)\n",
    "print(\"Testing score: \",dt4_score_test)"
   ]
  },
  {
   "cell_type": "code",
   "execution_count": 66,
   "metadata": {
    "_cell_guid": "0f61abaa-9d1e-4fa7-83e7-23f11bdf90e8",
    "_uuid": "a3b51e1daf328cc5157234c3e4bf0be5174ce62f"
   },
   "outputs": [
    {
     "name": "stdout",
     "output_type": "stream",
     "text": [
      "Training score:  0.8080412140217269\n",
      "Testing score:  0.7796686072548141\n"
     ]
    }
   ],
   "source": [
    "# Decision tree with depth = 6\n",
    "dt6 = tree.DecisionTreeClassifier(random_state=1, max_depth=6)\n",
    "dt6.fit(data_train, label_train)\n",
    "dt6_score_train = dt6.score(data_train, label_train)\n",
    "print(\"Training score: \",dt6_score_train)\n",
    "dt6_score_test = dt6.score(data_test, label_test)\n",
    "print(\"Testing score: \",dt6_score_test)"
   ]
  },
  {
   "cell_type": "code",
   "execution_count": 67,
   "metadata": {
    "_cell_guid": "32a4d8a7-b285-47c2-988c-8aa6a66933e2",
    "_uuid": "cabee45b6dd75bd0aac571320e300c5d2c94c045"
   },
   "outputs": [
    {
     "name": "stdout",
     "output_type": "stream",
     "text": [
      "Training score:  1.0\n",
      "Testing score:  0.7330944917151814\n"
     ]
    }
   ],
   "source": [
    "# Decision tree: To the full depth\n",
    "dt1 = tree.DecisionTreeClassifier()\n",
    "dt1.fit(data_train, label_train)\n",
    "dt1_score_train = dt1.score(data_train, label_train)\n",
    "print(\"Training score: \", dt1_score_train)\n",
    "dt1_score_test = dt1.score(data_test, label_test)\n",
    "print(\"Testing score: \", dt1_score_test)"
   ]
  },
  {
   "cell_type": "markdown",
   "metadata": {
    "_cell_guid": "12a029ef-2d45-452c-927d-2f826b5f9a68",
    "_uuid": "e1c1dad3c3e239f3f4b19d4b15da9949c2bd9ec2"
   },
   "source": [
    "#### Compare Training and Testing scores for various tree depths used"
   ]
  },
  {
   "cell_type": "code",
   "execution_count": 68,
   "metadata": {
    "_cell_guid": "6fb20c58-b5dc-4944-9b78-258d2f2e0da2",
    "_uuid": "92eee54d59182aeed9b828fe2a57818ffcfcbb31",
    "scrolled": true
   },
   "outputs": [
    {
     "name": "stdout",
     "output_type": "stream",
     "text": [
      "depth      Training score       Testing score       \n",
      "-----      --------------       -------------       \n",
      "2        0.7285250307985217   0.7268248992386923\n",
      "3         0.770411020271027   0.7572772055530677\n",
      "4        0.7885541494008288    0.774294670846395\n",
      "6        0.8080412140217269   0.7796686072548141\n",
      "max                     1.0   0.7330944917151814\n"
     ]
    }
   ],
   "source": [
    "print('{:10} {:20} {:20}'.format('depth', 'Training score','Testing score'))\n",
    "print('{:10} {:20} {:20}'.format('-----', '--------------','-------------'))\n",
    "print('{:1} {:>25} {:>20}'.format(2, dt2_score_train, dt2_score_test))\n",
    "print('{:1} {:>25} {:>20}'.format(3, dt3_score_train, dt3_score_test))\n",
    "print('{:1} {:>25} {:>20}'.format(4, dt4_score_train, dt4_score_test))\n",
    "print('{:1} {:>25} {:>20}'.format(6, dt6_score_train, dt6_score_test))\n",
    "print('{:1} {:>23} {:>20}'.format(\"max\", dt1_score_train, dt1_score_test))"
   ]
  },
  {
   "cell_type": "markdown",
   "metadata": {
    "_cell_guid": "a2ee959f-14f5-4236-8d7f-bfe781d37f49",
    "_uuid": "9262f9c49fb675e6b7a107e66ea959868b9176b4"
   },
   "source": [
    "It could be seen that, higher the depth, training score increases and matches perfects with the training data set. However higher the depth the tree goes, it overfit to the training data set. So it's no use keep increasing the tree depth. According to above observations, tree with a depth of 2 seems more reasonable as both training and test scores are reasonably high."
   ]
  },
  {
   "cell_type": "code",
   "execution_count": 69,
   "metadata": {
    "_cell_guid": "868f9549-40a9-45be-b91a-b1b185a882c8",
    "_uuid": "051771a3c38a6c2880611ac28c74b3c513baf7bd"
   },
   "outputs": [],
   "source": [
    "# Let's generate the decision tree for depth = 2\n",
    "# Create a feature vector\n",
    "features = bankcl.columns.tolist()\n",
    "\n",
    "# Uncomment below to generate the digraph Tree.\n",
    "#tree.export_graphviz(dt2, out_file='tree_depth_2.dot', feature_names=features)"
   ]
  },
  {
   "cell_type": "markdown",
   "metadata": {
    "_cell_guid": "3db9c226-c098-4a75-97ee-557334741e80",
    "_uuid": "8a3988cef147c5ec0c9b1eb011bdea2daaea117f"
   },
   "source": [
    "****Contents of \"tree_depth_2.dot\":  ****  \n",
    "digraph Tree {  \n",
    "node [shape=box] ;  \n",
    "0 [label=\"duration <= 206.5\\ngini = 0.4986\\nsamples = 8929\\nvalue = [4700, 4229]\"] ;  \n",
    "1 [label=\"poutcome_failure <= 0.5\\ngini = 0.3274\\nsamples = 3612\\nvalue = [2867, 745]\"] ;  \n",
    "0 -> 1 [labeldistance=2.5, labelangle=45, headlabel=\"True\"] ;  \n",
    "2 [label=\"gini = 0.2733\\nsamples = 3380\\nvalue = [2828, 552]\"] ;  \n",
    "1 -> 2 ;  \n",
    "3 [label=\"gini = 0.2797\\nsamples = 232\\nvalue = [39, 193]\"] ;  \n",
    "1 -> 3 ;  \n",
    "4 [label=\"duration <= 441.5\\ngini = 0.4518\\nsamples = 5317\\nvalue = [1833, 3484]\"] ;  \n",
    "0 -> 4 [labeldistance=2.5, labelangle=-45, headlabel=\"False\"] ;  \n",
    "5 [label=\"gini = 0.4996\\nsamples = 2762\\nvalue = [1340, 1422]\"] ;  \n",
    "4 -> 5 ;  \n",
    "6 [label=\"gini = 0.3114\\nsamples = 2555\\nvalue = [493, 2062]\"] ;  \n",
    "4 -> 6 ;  \n",
    "}"
   ]
  },
  {
   "cell_type": "markdown",
   "metadata": {
    "_cell_guid": "f0ccc5ec-7c25-494b-80cc-64e429a0bc4a",
    "_uuid": "5e31f603d3c4f42d067a832fb62e4510db36260c"
   },
   "source": [
    "Thee decision tree for depth =2 can be found at below link:\n",
    "(I wasn't successful in attaching the image to Kaggle)\n",
    "https://i.imgur.com/YML2E7h.png\n"
   ]
  },
  {
   "cell_type": "markdown",
   "metadata": {
    "_cell_guid": "11e301f0-fd01-4411-bb0d-4dd26c0333ce",
    "_uuid": "7780912e57e3e5a3f862b3ba3006c64a7c084249"
   },
   "source": [
    "Based on the decision tree results, it could be seen that higher the \"duration\", bank is able to sign up more people to term deposites."
   ]
  },
  {
   "cell_type": "code",
   "execution_count": 70,
   "metadata": {
    "_cell_guid": "eafef089-0ec3-4915-8db1-783a06c77eec",
    "_uuid": "ba242f2e1caef4966ebe0f0e7eec41dcc7daebc0"
   },
   "outputs": [
    {
     "data": {
      "text/plain": [
       "array([0, 1], dtype=int64)"
      ]
     },
     "execution_count": 70,
     "metadata": {},
     "output_type": "execute_result"
    }
   ],
   "source": [
    "# Two classes: 0 = not signed up,  1 = signed up\n",
    "dt2.classes_"
   ]
  },
  {
   "cell_type": "code",
   "execution_count": 71,
   "metadata": {
    "_cell_guid": "2a4d1e56-ec88-471b-b530-57f9c420e447",
    "_uuid": "e047c485745e224de5e9a76f656dca9f54760a86"
   },
   "outputs": [
    {
     "data": {
      "text/plain": [
       "['age',\n",
       " 'balance',\n",
       " 'duration',\n",
       " 'campaign',\n",
       " 'previous',\n",
       " 'default_cat',\n",
       " 'housing_cat',\n",
       " 'loan_cat',\n",
       " 'recent_pdays',\n",
       " 'job_blue-collar',\n",
       " 'job_entrepreneur',\n",
       " 'job_other',\n",
       " 'job_pink-collar',\n",
       " 'job_self-employed',\n",
       " 'job_technician',\n",
       " 'job_white-collar',\n",
       " 'marital_divorced',\n",
       " 'marital_married',\n",
       " 'marital_single',\n",
       " 'education_primary',\n",
       " 'education_secondary',\n",
       " 'education_tertiary',\n",
       " 'education_unknown',\n",
       " 'poutcome_failure',\n",
       " 'poutcome_success',\n",
       " 'poutcome_unknown']"
      ]
     },
     "execution_count": 71,
     "metadata": {},
     "output_type": "execute_result"
    }
   ],
   "source": [
    "# Create a feature vector\n",
    "features = data_drop_deposite.columns.tolist()\n",
    "\n",
    "features"
   ]
  },
  {
   "cell_type": "code",
   "execution_count": 72,
   "metadata": {
    "_cell_guid": "a40199c8-690b-4361-bdcc-f7dd76946250",
    "_uuid": "6cd0de90f9a563e11e42683f81d82b5c91c6d93c"
   },
   "outputs": [
    {
     "name": "stdout",
     "output_type": "stream",
     "text": [
      "age................. 0.0\n",
      "balance............. 0.0\n",
      "duration............ 0.849306123902405\n",
      "campaign............ 0.0\n",
      "previous............ 0.0\n",
      "default_cat......... 0.0\n",
      "housing_cat......... 0.0\n",
      "loan_cat............ 0.0\n",
      "recent_pdays........ 0.0\n",
      "job_blue-collar..... 0.0\n",
      "job_entrepreneur.... 0.0\n",
      "job_other........... 0.0\n",
      "job_pink-collar..... 0.0\n",
      "job_self-employed... 0.0\n",
      "job_technician...... 0.0\n",
      "job_white-collar.... 0.0\n",
      "marital_divorced.... 0.0\n",
      "marital_married..... 0.0\n",
      "marital_single...... 0.0\n",
      "education_primary... 0.0\n",
      "education_secondary. 0.0\n",
      "education_tertiary.. 0.0\n",
      "education_unknown... 0.0\n",
      "poutcome_failure.... 0.0\n",
      "poutcome_success.... 0.15069387609759496\n",
      "poutcome_unknown.... 0.0\n"
     ]
    }
   ],
   "source": [
    "# Investigate most important features with depth =2\n",
    "\n",
    "dt2 = tree.DecisionTreeClassifier(random_state=1, max_depth=2)\n",
    "\n",
    "# Fit the decision tree classifier\n",
    "dt2.fit(data_train, label_train)\n",
    "\n",
    "fi = dt2.feature_importances_\n",
    "\n",
    "l = len(features)\n",
    "for i in range(0,len(features)):\n",
    "    print('{:.<20} {:3}'.format(features[i],fi[i]))"
   ]
  },
  {
   "cell_type": "markdown",
   "metadata": {
    "_cell_guid": "3eba0270-7d71-4254-b1b9-03d25eae3a23",
    "_uuid": "caf2f2bfd1e3549d35359927dea802c3e8f3e40e"
   },
   "source": [
    "## Predictions"
   ]
  },
  {
   "cell_type": "code",
   "execution_count": 73,
   "metadata": {
    "_cell_guid": "7d43908a-0eef-4719-90a2-96e486ee3743",
    "_uuid": "34edc756644878ec7c1cdbe10310485dc9b386a7"
   },
   "outputs": [
    {
     "name": "stdout",
     "output_type": "stream",
     "text": [
      "Mean duration   :  371.99381831213043\n",
      "Maximun duration:  3881\n",
      "Minimum duration:  2\n"
     ]
    }
   ],
   "source": [
    "# According to feature importance results, most importtant feature is the \"Duration\"\n",
    "# Let's calculte statistics on Duration\n",
    "print(\"Mean duration   : \", data_drop_deposite.duration.mean())\n",
    "print(\"Maximun duration: \", data_drop_deposite.duration.max())\n",
    "print(\"Minimum duration: \", data_drop_deposite.duration.min())"
   ]
  },
  {
   "cell_type": "code",
   "execution_count": 74,
   "metadata": {
    "_cell_guid": "44c20639-552b-4941-98ca-492aaaf987e3",
    "_uuid": "f90cc3423d1135a1f0fb8f4850088935de2cc7d3"
   },
   "outputs": [
    {
     "name": "stdout",
     "output_type": "stream",
     "text": [
      "[[0.48515568 0.51484432]]\n",
      "[1]\n"
     ]
    }
   ],
   "source": [
    "# Predict: Successful deposite with a call duration = 371 sec\n",
    "\n",
    "print(dt2.predict_proba(np.array([0, 0, 371, 0, 0, 0,0,0,0,0,0,0,0,0,0,0,0,0,0,0,0,0,0,0,1,0]).reshape(1, -1)))\n",
    "print(dt2.predict(np.array([0, 0, 371, 0, 0, 0,0,0,0,0,0,0,0,0,0,0,0,0,0,0,0,0,0,0,1,0]).reshape(1, -1)))\n",
    "# column 0: probability for class 0 (not signed for term deposite) & column 1: probability for class 1\n",
    "# Probability of Successful deposite = 0.51484432"
   ]
  },
  {
   "cell_type": "code",
   "execution_count": 75,
   "metadata": {
    "_cell_guid": "45ce9752-9a0e-49ae-8ae6-62f39e984fc1",
    "_uuid": "01b7620cb265ebae4ec3289e20b49405324d25f0"
   },
   "outputs": [
    {
     "name": "stdout",
     "output_type": "stream",
     "text": [
      "[[0.19295499 0.80704501]]\n",
      "[1]\n"
     ]
    }
   ],
   "source": [
    "# Predict: Successful deposite with a maximun call duration = 3881 sec\n",
    "\n",
    "print(dt2.predict_proba(np.array([0, 0, 3881, 0, 0, 0,0,0,0,0,0,0,0,0,0,0,0,0,0,0,0,0,0,0,1,0]).reshape(1, -1)))\n",
    "print(dt2.predict(np.array([0, 0, 3881, 0, 0, 0,0,0,0,0,0,0,0,0,0,0,0,0,0,0,0,0,0,0,1,0]).reshape(1, -1)))"
   ]
  },
  {
   "cell_type": "code",
   "execution_count": 76,
   "metadata": {
    "_cell_guid": "49cc5af7-e45e-465e-8496-f6e64ddffa06",
    "_uuid": "0f0d54a2141b6a7906a93fbc0cf73b2cfe1dfecc"
   },
   "outputs": [
    {
     "data": {
      "text/plain": [
       "age                      46.000000\n",
       "balance                3354.000000\n",
       "duration                522.000000\n",
       "campaign                  1.000000\n",
       "previous                  1.000000\n",
       "default_cat               0.000000\n",
       "housing_cat               1.000000\n",
       "loan_cat                  0.000000\n",
       "recent_pdays              0.005747\n",
       "job_blue-collar           0.000000\n",
       "job_entrepreneur          0.000000\n",
       "job_other                 1.000000\n",
       "job_pink-collar           0.000000\n",
       "job_self-employed         0.000000\n",
       "job_technician            0.000000\n",
       "job_white-collar          0.000000\n",
       "marital_divorced          1.000000\n",
       "marital_married           0.000000\n",
       "marital_single            0.000000\n",
       "education_primary         0.000000\n",
       "education_secondary       1.000000\n",
       "education_tertiary        0.000000\n",
       "education_unknown         0.000000\n",
       "poutcome_failure          0.000000\n",
       "poutcome_success          1.000000\n",
       "poutcome_unknown          0.000000\n",
       "Name: 985, dtype: float64"
      ]
     },
     "execution_count": 76,
     "metadata": {},
     "output_type": "execute_result"
    }
   ],
   "source": [
    "# Get a row with poutcome_success = 1\n",
    "#bank_with_dummies[(bank_with_dummies.poutcome_success == 1)]\n",
    "data_drop_deposite.iloc[985]"
   ]
  },
  {
   "cell_type": "code",
   "execution_count": 77,
   "metadata": {
    "_cell_guid": "2e1045dd-ab80-4ebd-8daa-9b51c217f1cc",
    "_uuid": "735a8e7498209fd60fd7ece2d610e0cd12793715"
   },
   "outputs": [
    {
     "name": "stdout",
     "output_type": "stream",
     "text": [
      "[[0.19295499 0.80704501]]\n"
     ]
    }
   ],
   "source": [
    "# Predict: Probability for above\n",
    "\n",
    "print(dt2.predict_proba(np.array([46,3354,522,1,1,0,1,0,0.005747,0,0,1,0,0,0,0,1,0,0,0,1,0,0,0,1,0]).reshape(1, -1)))\n",
    "#print(ctree.predict(np.array([46,3354,522,1,1,0,1,0,0.005747,0,0,1,0,0,0,0,1,0,0,0,1,0,0,0,1,0]).reshape(1, -1)))"
   ]
  },
  {
   "cell_type": "code",
   "execution_count": 78,
   "metadata": {
    "_cell_guid": "1a0663b5-bb57-4bee-83cb-3713cd1bfd49",
    "_uuid": "7b6c6107fab5f61fedc06523adb4457b7521001d",
    "scrolled": true
   },
   "outputs": [
    {
     "name": "stdout",
     "output_type": "stream",
     "text": [
      "\n",
      "Accuracy score: \n",
      "0.7268248992386923\n",
      "\n",
      "Area Under Curve: \n",
      "0.7880265888143609\n"
     ]
    }
   ],
   "source": [
    "# Make predictions on the test set\n",
    "preds = dt2.predict(data_test)\n",
    "\n",
    "# Calculate accuracy\n",
    "print(\"\\nAccuracy score: \\n{}\".format(metrics.accuracy_score(label_test, preds)))\n",
    "\n",
    "# Make predictions on the test set using predict_proba\n",
    "probs = dt2.predict_proba(data_test)[:,1]\n",
    "\n",
    "# Calculate the AUC metric\n",
    "print(\"\\nArea Under Curve: \\n{}\".format(metrics.roc_auc_score(label_test, probs)))"
   ]
  }
 ],
 "metadata": {
  "kernelspec": {
   "display_name": "Python 3",
   "language": "python",
   "name": "python3"
  },
  "language_info": {
   "codemirror_mode": {
    "name": "ipython",
    "version": 3
   },
   "file_extension": ".py",
   "mimetype": "text/x-python",
   "name": "python",
   "nbconvert_exporter": "python",
   "pygments_lexer": "ipython3",
   "version": "3.8.8"
  }
 },
 "nbformat": 4,
 "nbformat_minor": 1
}
